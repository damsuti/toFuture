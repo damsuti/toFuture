{
 "cells": [
  {
   "cell_type": "markdown",
   "id": "89d2307c",
   "metadata": {},
   "source": [
    "# Create for study about subjects the exam\n",
    "\n",
    "\n",
    "### 1) Introdução a correlação.\n",
    "\n",
    "* Interesse em analisar o comportamento de duas variáveis quantitativas.(causa -> efeito)\n",
    "* Interesse em obter uma medida estatística que indique se existe ou não associação linear entre duas variáveis; e se existe, qual a sua magnitude e sinal.\n",
    "* A correlação entre duas variáveis é medida através da seguinte fómula.\n",
    "    * $$\n",
    "        r = \\frac{\\sum_{i=1}^{n} X_i Y_i - n\\bar{x}\\bar{y}}\n",
    "        {\\sqrt{\\sum_{i=1}^{n} X_i^2 - n(\\bar{x})^2} \\sqrt{\\sum_{i=1}^{n} Y_i^2 - n(\\bar{y})^2}}\n",
    "    $$\n",
    "* No exemplo abaixo podemos observar correlações bem fortes (> 0.7 ou <-0.7) uma correlação média(|>0.3 && <0.7 | ECOR3) e duas correlações fracas( BEEF3, ABEV3 )"
   ]
  },
  {
   "cell_type": "code",
   "execution_count": 1,
   "id": "f6946ce2",
   "metadata": {
    "vscode": {
     "languageId": "plaintext"
    }
   },
   "outputs": [
    {
     "data": {
      "application/vnd.plotly.v1+json": {
       "config": {
        "plotlyServerURL": "https://plot.ly"
       },
       "data": [
        {
         "hovertemplate": "Coeficiente de Correlação=%{marker.color:.3f}<br>Ações=%{y}<extra></extra>",
         "legendgroup": "",
         "marker": {
          "color": {
           "bdata": "l4HNiutc6b946zlk8Q/Fv2nKFznoALg/KfPjHcCn0z97Hv34WqbmP8a7sg6Fiuk/OS61c7JF6j8+M3849I3qP/EW+2taGes/9tbkshLw6z/IOKTHSuXtP9/tI7lN++0/",
           "dtype": "f8"
          },
          "coloraxis": "coloraxis",
          "pattern": {
           "shape": ""
          }
         },
         "name": "",
         "orientation": "h",
         "showlegend": false,
         "textposition": "auto",
         "type": "bar",
         "x": {
          "bdata": "l4HNiutc6b946zlk8Q/Fv2nKFznoALg/KfPjHcCn0z97Hv34WqbmP8a7sg6Fiuk/OS61c7JF6j8+M3849I3qP/EW+2taGes/9tbkshLw6z/IOKTHSuXtP9/tI7lN++0/",
          "dtype": "f8"
         },
         "xaxis": "x",
         "y": [
          "BRFS3",
          "ABEV3",
          "BEEF3",
          "ECOR3",
          "MRFG3",
          "SMTO3",
          "CMIG4",
          "SBSP3",
          "ENEV3",
          "CPFE3",
          "ELET3",
          "EGIE3"
         ],
         "yaxis": "y"
        }
       ],
       "layout": {
        "barmode": "relative",
        "coloraxis": {
         "colorbar": {
          "title": {
           "text": "Coeficiente de Correlação"
          }
         },
         "colorscale": [
          [
           0,
           "rgb(150,0,90)"
          ],
          [
           0.125,
           "rgb(0,0,200)"
          ],
          [
           0.25,
           "rgb(0,25,255)"
          ],
          [
           0.375,
           "rgb(0,152,255)"
          ],
          [
           0.5,
           "rgb(44,255,150)"
          ],
          [
           0.625,
           "rgb(151,255,0)"
          ],
          [
           0.75,
           "rgb(255,234,0)"
          ],
          [
           0.875,
           "rgb(255,111,0)"
          ],
          [
           1,
           "rgb(255,0,0)"
          ]
         ]
        },
        "height": 450,
        "legend": {
         "tracegroupgap": 0
        },
        "template": {
         "data": {
          "bar": [
           {
            "error_x": {
             "color": "#2a3f5f"
            },
            "error_y": {
             "color": "#2a3f5f"
            },
            "marker": {
             "line": {
              "color": "#E5ECF6",
              "width": 0.5
             },
             "pattern": {
              "fillmode": "overlay",
              "size": 10,
              "solidity": 0.2
             }
            },
            "type": "bar"
           }
          ],
          "barpolar": [
           {
            "marker": {
             "line": {
              "color": "#E5ECF6",
              "width": 0.5
             },
             "pattern": {
              "fillmode": "overlay",
              "size": 10,
              "solidity": 0.2
             }
            },
            "type": "barpolar"
           }
          ],
          "carpet": [
           {
            "aaxis": {
             "endlinecolor": "#2a3f5f",
             "gridcolor": "white",
             "linecolor": "white",
             "minorgridcolor": "white",
             "startlinecolor": "#2a3f5f"
            },
            "baxis": {
             "endlinecolor": "#2a3f5f",
             "gridcolor": "white",
             "linecolor": "white",
             "minorgridcolor": "white",
             "startlinecolor": "#2a3f5f"
            },
            "type": "carpet"
           }
          ],
          "choropleth": [
           {
            "colorbar": {
             "outlinewidth": 0,
             "ticks": ""
            },
            "type": "choropleth"
           }
          ],
          "contour": [
           {
            "colorbar": {
             "outlinewidth": 0,
             "ticks": ""
            },
            "colorscale": [
             [
              0,
              "#0d0887"
             ],
             [
              0.1111111111111111,
              "#46039f"
             ],
             [
              0.2222222222222222,
              "#7201a8"
             ],
             [
              0.3333333333333333,
              "#9c179e"
             ],
             [
              0.4444444444444444,
              "#bd3786"
             ],
             [
              0.5555555555555556,
              "#d8576b"
             ],
             [
              0.6666666666666666,
              "#ed7953"
             ],
             [
              0.7777777777777778,
              "#fb9f3a"
             ],
             [
              0.8888888888888888,
              "#fdca26"
             ],
             [
              1,
              "#f0f921"
             ]
            ],
            "type": "contour"
           }
          ],
          "contourcarpet": [
           {
            "colorbar": {
             "outlinewidth": 0,
             "ticks": ""
            },
            "type": "contourcarpet"
           }
          ],
          "heatmap": [
           {
            "colorbar": {
             "outlinewidth": 0,
             "ticks": ""
            },
            "colorscale": [
             [
              0,
              "#0d0887"
             ],
             [
              0.1111111111111111,
              "#46039f"
             ],
             [
              0.2222222222222222,
              "#7201a8"
             ],
             [
              0.3333333333333333,
              "#9c179e"
             ],
             [
              0.4444444444444444,
              "#bd3786"
             ],
             [
              0.5555555555555556,
              "#d8576b"
             ],
             [
              0.6666666666666666,
              "#ed7953"
             ],
             [
              0.7777777777777778,
              "#fb9f3a"
             ],
             [
              0.8888888888888888,
              "#fdca26"
             ],
             [
              1,
              "#f0f921"
             ]
            ],
            "type": "heatmap"
           }
          ],
          "histogram": [
           {
            "marker": {
             "pattern": {
              "fillmode": "overlay",
              "size": 10,
              "solidity": 0.2
             }
            },
            "type": "histogram"
           }
          ],
          "histogram2d": [
           {
            "colorbar": {
             "outlinewidth": 0,
             "ticks": ""
            },
            "colorscale": [
             [
              0,
              "#0d0887"
             ],
             [
              0.1111111111111111,
              "#46039f"
             ],
             [
              0.2222222222222222,
              "#7201a8"
             ],
             [
              0.3333333333333333,
              "#9c179e"
             ],
             [
              0.4444444444444444,
              "#bd3786"
             ],
             [
              0.5555555555555556,
              "#d8576b"
             ],
             [
              0.6666666666666666,
              "#ed7953"
             ],
             [
              0.7777777777777778,
              "#fb9f3a"
             ],
             [
              0.8888888888888888,
              "#fdca26"
             ],
             [
              1,
              "#f0f921"
             ]
            ],
            "type": "histogram2d"
           }
          ],
          "histogram2dcontour": [
           {
            "colorbar": {
             "outlinewidth": 0,
             "ticks": ""
            },
            "colorscale": [
             [
              0,
              "#0d0887"
             ],
             [
              0.1111111111111111,
              "#46039f"
             ],
             [
              0.2222222222222222,
              "#7201a8"
             ],
             [
              0.3333333333333333,
              "#9c179e"
             ],
             [
              0.4444444444444444,
              "#bd3786"
             ],
             [
              0.5555555555555556,
              "#d8576b"
             ],
             [
              0.6666666666666666,
              "#ed7953"
             ],
             [
              0.7777777777777778,
              "#fb9f3a"
             ],
             [
              0.8888888888888888,
              "#fdca26"
             ],
             [
              1,
              "#f0f921"
             ]
            ],
            "type": "histogram2dcontour"
           }
          ],
          "mesh3d": [
           {
            "colorbar": {
             "outlinewidth": 0,
             "ticks": ""
            },
            "type": "mesh3d"
           }
          ],
          "parcoords": [
           {
            "line": {
             "colorbar": {
              "outlinewidth": 0,
              "ticks": ""
             }
            },
            "type": "parcoords"
           }
          ],
          "pie": [
           {
            "automargin": true,
            "type": "pie"
           }
          ],
          "scatter": [
           {
            "fillpattern": {
             "fillmode": "overlay",
             "size": 10,
             "solidity": 0.2
            },
            "type": "scatter"
           }
          ],
          "scatter3d": [
           {
            "line": {
             "colorbar": {
              "outlinewidth": 0,
              "ticks": ""
             }
            },
            "marker": {
             "colorbar": {
              "outlinewidth": 0,
              "ticks": ""
             }
            },
            "type": "scatter3d"
           }
          ],
          "scattercarpet": [
           {
            "marker": {
             "colorbar": {
              "outlinewidth": 0,
              "ticks": ""
             }
            },
            "type": "scattercarpet"
           }
          ],
          "scattergeo": [
           {
            "marker": {
             "colorbar": {
              "outlinewidth": 0,
              "ticks": ""
             }
            },
            "type": "scattergeo"
           }
          ],
          "scattergl": [
           {
            "marker": {
             "colorbar": {
              "outlinewidth": 0,
              "ticks": ""
             }
            },
            "type": "scattergl"
           }
          ],
          "scattermap": [
           {
            "marker": {
             "colorbar": {
              "outlinewidth": 0,
              "ticks": ""
             }
            },
            "type": "scattermap"
           }
          ],
          "scattermapbox": [
           {
            "marker": {
             "colorbar": {
              "outlinewidth": 0,
              "ticks": ""
             }
            },
            "type": "scattermapbox"
           }
          ],
          "scatterpolar": [
           {
            "marker": {
             "colorbar": {
              "outlinewidth": 0,
              "ticks": ""
             }
            },
            "type": "scatterpolar"
           }
          ],
          "scatterpolargl": [
           {
            "marker": {
             "colorbar": {
              "outlinewidth": 0,
              "ticks": ""
             }
            },
            "type": "scatterpolargl"
           }
          ],
          "scatterternary": [
           {
            "marker": {
             "colorbar": {
              "outlinewidth": 0,
              "ticks": ""
             }
            },
            "type": "scatterternary"
           }
          ],
          "surface": [
           {
            "colorbar": {
             "outlinewidth": 0,
             "ticks": ""
            },
            "colorscale": [
             [
              0,
              "#0d0887"
             ],
             [
              0.1111111111111111,
              "#46039f"
             ],
             [
              0.2222222222222222,
              "#7201a8"
             ],
             [
              0.3333333333333333,
              "#9c179e"
             ],
             [
              0.4444444444444444,
              "#bd3786"
             ],
             [
              0.5555555555555556,
              "#d8576b"
             ],
             [
              0.6666666666666666,
              "#ed7953"
             ],
             [
              0.7777777777777778,
              "#fb9f3a"
             ],
             [
              0.8888888888888888,
              "#fdca26"
             ],
             [
              1,
              "#f0f921"
             ]
            ],
            "type": "surface"
           }
          ],
          "table": [
           {
            "cells": {
             "fill": {
              "color": "#EBF0F8"
             },
             "line": {
              "color": "white"
             }
            },
            "header": {
             "fill": {
              "color": "#C8D4E3"
             },
             "line": {
              "color": "white"
             }
            },
            "type": "table"
           }
          ]
         },
         "layout": {
          "annotationdefaults": {
           "arrowcolor": "#2a3f5f",
           "arrowhead": 0,
           "arrowwidth": 1
          },
          "autotypenumbers": "strict",
          "coloraxis": {
           "colorbar": {
            "outlinewidth": 0,
            "ticks": ""
           }
          },
          "colorscale": {
           "diverging": [
            [
             0,
             "#8e0152"
            ],
            [
             0.1,
             "#c51b7d"
            ],
            [
             0.2,
             "#de77ae"
            ],
            [
             0.3,
             "#f1b6da"
            ],
            [
             0.4,
             "#fde0ef"
            ],
            [
             0.5,
             "#f7f7f7"
            ],
            [
             0.6,
             "#e6f5d0"
            ],
            [
             0.7,
             "#b8e186"
            ],
            [
             0.8,
             "#7fbc41"
            ],
            [
             0.9,
             "#4d9221"
            ],
            [
             1,
             "#276419"
            ]
           ],
           "sequential": [
            [
             0,
             "#0d0887"
            ],
            [
             0.1111111111111111,
             "#46039f"
            ],
            [
             0.2222222222222222,
             "#7201a8"
            ],
            [
             0.3333333333333333,
             "#9c179e"
            ],
            [
             0.4444444444444444,
             "#bd3786"
            ],
            [
             0.5555555555555556,
             "#d8576b"
            ],
            [
             0.6666666666666666,
             "#ed7953"
            ],
            [
             0.7777777777777778,
             "#fb9f3a"
            ],
            [
             0.8888888888888888,
             "#fdca26"
            ],
            [
             1,
             "#f0f921"
            ]
           ],
           "sequentialminus": [
            [
             0,
             "#0d0887"
            ],
            [
             0.1111111111111111,
             "#46039f"
            ],
            [
             0.2222222222222222,
             "#7201a8"
            ],
            [
             0.3333333333333333,
             "#9c179e"
            ],
            [
             0.4444444444444444,
             "#bd3786"
            ],
            [
             0.5555555555555556,
             "#d8576b"
            ],
            [
             0.6666666666666666,
             "#ed7953"
            ],
            [
             0.7777777777777778,
             "#fb9f3a"
            ],
            [
             0.8888888888888888,
             "#fdca26"
            ],
            [
             1,
             "#f0f921"
            ]
           ]
          },
          "colorway": [
           "#636efa",
           "#EF553B",
           "#00cc96",
           "#ab63fa",
           "#FFA15A",
           "#19d3f3",
           "#FF6692",
           "#B6E880",
           "#FF97FF",
           "#FECB52"
          ],
          "font": {
           "color": "#2a3f5f"
          },
          "geo": {
           "bgcolor": "white",
           "lakecolor": "white",
           "landcolor": "#E5ECF6",
           "showlakes": true,
           "showland": true,
           "subunitcolor": "white"
          },
          "hoverlabel": {
           "align": "left"
          },
          "hovermode": "closest",
          "mapbox": {
           "style": "light"
          },
          "paper_bgcolor": "white",
          "plot_bgcolor": "#E5ECF6",
          "polar": {
           "angularaxis": {
            "gridcolor": "white",
            "linecolor": "white",
            "ticks": ""
           },
           "bgcolor": "#E5ECF6",
           "radialaxis": {
            "gridcolor": "white",
            "linecolor": "white",
            "ticks": ""
           }
          },
          "scene": {
           "xaxis": {
            "backgroundcolor": "#E5ECF6",
            "gridcolor": "white",
            "gridwidth": 2,
            "linecolor": "white",
            "showbackground": true,
            "ticks": "",
            "zerolinecolor": "white"
           },
           "yaxis": {
            "backgroundcolor": "#E5ECF6",
            "gridcolor": "white",
            "gridwidth": 2,
            "linecolor": "white",
            "showbackground": true,
            "ticks": "",
            "zerolinecolor": "white"
           },
           "zaxis": {
            "backgroundcolor": "#E5ECF6",
            "gridcolor": "white",
            "gridwidth": 2,
            "linecolor": "white",
            "showbackground": true,
            "ticks": "",
            "zerolinecolor": "white"
           }
          },
          "shapedefaults": {
           "line": {
            "color": "#2a3f5f"
           }
          },
          "ternary": {
           "aaxis": {
            "gridcolor": "white",
            "linecolor": "white",
            "ticks": ""
           },
           "baxis": {
            "gridcolor": "white",
            "linecolor": "white",
            "ticks": ""
           },
           "bgcolor": "#E5ECF6",
           "caxis": {
            "gridcolor": "white",
            "linecolor": "white",
            "ticks": ""
           }
          },
          "title": {
           "x": 0.05
          },
          "xaxis": {
           "automargin": true,
           "gridcolor": "white",
           "linecolor": "white",
           "ticks": "",
           "title": {
            "standoff": 15
           },
           "zerolinecolor": "white",
           "zerolinewidth": 2
          },
          "yaxis": {
           "automargin": true,
           "gridcolor": "white",
           "linecolor": "white",
           "ticks": "",
           "title": {
            "standoff": 15
           },
           "zerolinecolor": "white",
           "zerolinewidth": 2
          }
         }
        },
        "title": {
         "text": "Correlação entre o Ibovespa e Outras Ações (Fechamento)"
        },
        "uniformtext": {
         "minsize": 8
        },
        "xaxis": {
         "anchor": "y",
         "domain": [
          0,
          1
         ],
         "title": {
          "text": "Coeficiente de Correlação"
         }
        },
        "yaxis": {
         "anchor": "x",
         "domain": [
          0,
          1
         ],
         "title": {
          "text": "Ações"
         }
        }
       }
      }
     },
     "metadata": {},
     "output_type": "display_data"
    },
    {
     "name": "stdout",
     "output_type": "stream",
     "text": [
      "Você pode interagir com o gráfico e passar o mouse sobre as barras para ver os valores.\n"
     ]
    }
   ],
   "source": [
    "import pandas as pd\n",
    "from sqlalchemy import create_engine\n",
    "import os\n",
    "import re\n",
    "import plotly.express as px\n",
    "\n",
    "\n",
    "# Credenciais do banco de dados (ajuste se necessário)\n",
    "DB_USER = \"user_invest\"\n",
    "DB_PASSWORD = \"senha_forte\"\n",
    "DB_HOST = 'localhost'\n",
    "DB_PORT = '5432'\n",
    "DB_NAME = 'postgres'\n",
    "TABLE_NAME = 'companys'\n",
    "tickers_list = [\"QUAL3.SA\", \"DASA3.SA\", \"HAPV3.SA\", \"FLRY3.SA\", \"ODPV3.SA\", \"RDOR3.SA\",\n",
    "    \"MATD3.SA\", \"GNDI3.SA\", \"PFRM3.SA\", \"RADL3.SA\", \"HYPE3.SA\", \"BLAU3.SA\",\n",
    "    \"ONCO3.SA\", \"AALR3.SA\",\n",
    "    \"CCRO3.SA\", \"ECOR3.SA\", \"SBSP3.SA\", \"RAIL3.SA\", \"RENT3.SA\",\n",
    "    \"ELET3.SA\", \"ENGI11.SA\", \"EQTL3.SA\", \"EGIE3.SA\", \"CMIG4.SA\", \"CPLE6.SA\",\n",
    "    \"NEOE3.SA\", \"CPFE3.SA\", \"TAEE11.SA\", \"ENEV3.SA\", \"ISAE4.SA\", \"AURE3.SA\",\n",
    "    \"AESB3.SA\", \"LIGT3.SA\",\n",
    "    \"BRFS3.SA\", \"BEEF3.SA\", \"MRFG3.SA\", \"JBSS3.SA\", \"ABEV3.SA\",\n",
    "    \"CAML3.SA\", \"MDIA3.SA\", \"SMTO3.SA\",\n",
    "    \"^BVSP\"\n",
    "    ]\n",
    "\n",
    "try:\n",
    "#Cria conexão com o banco de dados postgres\n",
    "    db_url = f'postgresql://{DB_USER}:{DB_PASSWORD}@{DB_HOST}:{DB_PORT}/{DB_NAME}'\n",
    "    engine = create_engine(db_url)\n",
    "    query = f\"\"\"\n",
    "        SELECT data, ticker, \"Fechamento\" \n",
    "        FROM companys \n",
    "        WHERE ticker IN ({', '.join([f\"'{t}'\" for t in tickers_list])}) \n",
    "        ORDER BY data;\n",
    "        \"\"\"\n",
    "    df = pd.read_sql(query, engine)\n",
    "\n",
    "    df['ticker'] = df['ticker'].apply(lambda x: re.sub(r'(\\.SA)$', '',x).replace('^', ''))\n",
    "    #Reorganizando o dataframe para que cada ticker seja uma coluna.\n",
    "    df_pivot = df.pivot_table(index='data', columns='ticker', values='Fechamento')\n",
    "    #calculando as correlações das matrix.\n",
    "    correlation_matrix = df_pivot.corr()\n",
    "\n",
    "    #Pega a correlação do Ibovespa com as outras ações e ordena\n",
    "    ibov_correlations = correlation_matrix['BVSP'].drop('BVSP').sort_values()\n",
    "    df_plot = ibov_correlations.reset_index()\n",
    "    df_plot.columns = ['Ticker', 'Correlacao']\n",
    "    # Calcula a altura do gráfico com base no número de tickers\n",
    "    # Isso garante que haja espaço suficiente para todos os rótulos\n",
    "    plot_height = len(df_plot) * 25 + 150 \n",
    "    \n",
    "    # Cria o gráfico de barras dinâmico com Plotly\n",
    "    fig = px.bar(\n",
    "        df_plot,\n",
    "        x='Correlacao',\n",
    "        y='Ticker',\n",
    "        orientation='h',\n",
    "        title='Correlação entre o Ibovespa e Outras Ações (Fechamento)',\n",
    "        labels={'Correlacao': 'Coeficiente de Correlação', 'Ticker': 'Ações'},\n",
    "        color='Correlacao',\n",
    "        color_continuous_scale=px.colors.sequential.Rainbow,\n",
    "        hover_data={'Correlacao': ':.3f'},\n",
    "        height=plot_height # Adiciona a altura calculada\n",
    "    )\n",
    "\n",
    "    # Remove o ajuste automático de texto que pode ocultar rótulos\n",
    "    fig.update_layout(uniformtext_minsize=8) \n",
    "\n",
    "    # Exibe o gráfico diretamente na célula do Jupyter\n",
    "    fig.show()\n",
    "    print(\"Você pode interagir com o gráfico e passar o mouse sobre as barras para ver os valores.\")\n",
    "\n",
    "\n",
    "\n",
    "except Exception as e:\n",
    "    print(f\"Ocorreu um erro: {e}\")"
   ]
  },
  {
   "cell_type": "markdown",
   "id": "07cb76e1",
   "metadata": {},
   "source": [
    "### 2) Intervalo de Confiança e Teste de Hipóteses para Correlação.\n",
    "*   O coeficiente de correlação populacional é um parâmetro ou característica da população, representada pela letra grega $\\rho$ e desconhecido. \n",
    "*   Dada uma amostra simples do par de variáveis aleatórias (X,Y), o coeficiente r pode ser considerado uma estimativo do verdadeiro e desconhecido coeficiente $\\rho$ .\n",
    "*   Podemos usar o coeficiente de correlação amostral , r , para fazer várias inferencias sobre $\\rh$ .\n",
    "*   Uma população que tenha duas variáveis não correlacionadas, pode produzir uma amostra com coeficiente de relação diferente de 0, simplesmente deviado a seleção dos dados.\n"
   ]
  },
  {
   "cell_type": "code",
   "execution_count": 2,
   "id": "86a04996",
   "metadata": {},
   "outputs": [
    {
     "name": "stdout",
     "output_type": "stream",
     "text": [
      "--- Tabela de Resultados Estatísticos ---\n",
      "\n",
      "      Ticker  Correlacao  IC_Inferior  IC_Superior       P_Valor  \\\n",
      "0   EGIE3.SA    0.936927     0.931931     0.941567  0.000000e+00   \n",
      "1   ELET3.SA    0.934240     0.929039     0.939072  0.000000e+00   \n",
      "2   CPFE3.SA    0.873056     0.863358     0.882109  0.000000e+00   \n",
      "3   ENEV3.SA    0.846845     0.835321     0.857625  0.000000e+00   \n",
      "4   SBSP3.SA    0.829828     0.817150     0.841704  0.000000e+00   \n",
      "5   CMIG4.SA    0.821008     0.807742     0.833443  0.000000e+00   \n",
      "6   SMTO3.SA    0.798159     0.783401     0.812018  0.000000e+00   \n",
      "7   MRFG3.SA    0.707807     0.687590     0.726927  0.000000e+00   \n",
      "8   ECOR3.SA    0.307114     0.271007     0.342357  2.972592e-55   \n",
      "9   BEEF3.SA    0.093764     0.054581     0.132658  2.946389e-06   \n",
      "10  ABEV3.SA   -0.164549    -0.202620    -0.125981  1.698918e-16   \n",
      "11  BRFS3.SA   -0.792593    -0.806792    -0.777478  0.000000e+00   \n",
      "\n",
      "               Significancia  \n",
      "0   Significativo (p < 0.05)  \n",
      "1   Significativo (p < 0.05)  \n",
      "2   Significativo (p < 0.05)  \n",
      "3   Significativo (p < 0.05)  \n",
      "4   Significativo (p < 0.05)  \n",
      "5   Significativo (p < 0.05)  \n",
      "6   Significativo (p < 0.05)  \n",
      "7   Significativo (p < 0.05)  \n",
      "8   Significativo (p < 0.05)  \n",
      "9   Significativo (p < 0.05)  \n",
      "10  Significativo (p < 0.05)  \n",
      "11  Significativo (p < 0.05)  \n"
     ]
    },
    {
     "data": {
      "application/vnd.plotly.v1+json": {
       "config": {
        "plotlyServerURL": "https://plot.ly"
       },
       "data": [
        {
         "customdata": {
          "bdata": "AAAAAAAAAAAaagGhYNLtPzOvjx5RIe4/AAAAAABao0AAAAAAAAAAAEl+VrWvuu0/DVaBst8M7j8AAAAAAFqjQAAAAAAAAAAAJbSveqCg6z+09YHDPDrsPwAAAAAAWqNAAAAAAAAAAADT6PcO8rrqP4Mq86uqces/AAAAAABao0AAAAAAAAAAAOxI9HQYJuo/VZ8EFz3v6j8AAAAAAFqjQAAAAAAAAAAAFvbJXwXZ6T9CZ++zkKvqPwAAAAAAWqNAAAAAAAAAAABlk6f4nhHpP2Zrzp0M/Ok/AAAAAABao0AAAAAAAAAAAAntdXG9AOY/t0yX0fxC5z8AAAAAAFqjQIpgQmK0J5002jGb/i5Y0T9YHbyELenVPwAAAAAAWqNA00ivrlK3yD4VsiSNDPKrPwzaF2/y+sA/AAAAAABao0DN/a/i5nuoPNKoSvp178m/Bk3LayYgwL8AAAAAAFqjQAAAAAAAAAAAs+rGfj7R6b8W81mKGeHovwAAAAAAWqNA",
          "dtype": "f8",
          "shape": "12, 4"
         },
         "hovertemplate": "Significancia=Significativo (p < 0.05)<br>Coeficiente de Correlação (r)=%{x:.3f}<br>Ações=%{y}<br>P_Valor=%{customdata[0]:.4f}<br>IC_Inferior=%{customdata[1]:.3f}<br>IC_Superior=%{customdata[2]:.3f}<br>N=%{customdata[3]}<extra></extra>",
         "legendgroup": "Significativo (p < 0.05)",
         "marker": {
          "color": "royalblue",
          "pattern": {
           "shape": ""
          }
         },
         "name": "Significativo (p < 0.05)",
         "orientation": "h",
         "showlegend": true,
         "textposition": "auto",
         "type": "bar",
         "x": {
          "bdata": "1O0juU377T+9OKTHSuXtP/TW5LIS8Os/4hb7a1oZ6z87M3849I3qPysutXOyReo/xbuyDoWK6T9/Hv34WqbmP9Ty4x3Ap9M/hMkXOegAuD9u6zlk8Q/Fv5iBzYrrXOm/",
          "dtype": "f8"
         },
         "xaxis": "x",
         "y": [
          "EGIE3.SA",
          "ELET3.SA",
          "CPFE3.SA",
          "ENEV3.SA",
          "SBSP3.SA",
          "CMIG4.SA",
          "SMTO3.SA",
          "MRFG3.SA",
          "ECOR3.SA",
          "BEEF3.SA",
          "ABEV3.SA",
          "BRFS3.SA"
         ],
         "yaxis": "y"
        }
       ],
       "layout": {
        "barmode": "relative",
        "height": 450,
        "legend": {
         "title": {
          "text": "Significancia"
         },
         "tracegroupgap": 0
        },
        "template": {
         "data": {
          "bar": [
           {
            "error_x": {
             "color": "#2a3f5f"
            },
            "error_y": {
             "color": "#2a3f5f"
            },
            "marker": {
             "line": {
              "color": "#E5ECF6",
              "width": 0.5
             },
             "pattern": {
              "fillmode": "overlay",
              "size": 10,
              "solidity": 0.2
             }
            },
            "type": "bar"
           }
          ],
          "barpolar": [
           {
            "marker": {
             "line": {
              "color": "#E5ECF6",
              "width": 0.5
             },
             "pattern": {
              "fillmode": "overlay",
              "size": 10,
              "solidity": 0.2
             }
            },
            "type": "barpolar"
           }
          ],
          "carpet": [
           {
            "aaxis": {
             "endlinecolor": "#2a3f5f",
             "gridcolor": "white",
             "linecolor": "white",
             "minorgridcolor": "white",
             "startlinecolor": "#2a3f5f"
            },
            "baxis": {
             "endlinecolor": "#2a3f5f",
             "gridcolor": "white",
             "linecolor": "white",
             "minorgridcolor": "white",
             "startlinecolor": "#2a3f5f"
            },
            "type": "carpet"
           }
          ],
          "choropleth": [
           {
            "colorbar": {
             "outlinewidth": 0,
             "ticks": ""
            },
            "type": "choropleth"
           }
          ],
          "contour": [
           {
            "colorbar": {
             "outlinewidth": 0,
             "ticks": ""
            },
            "colorscale": [
             [
              0,
              "#0d0887"
             ],
             [
              0.1111111111111111,
              "#46039f"
             ],
             [
              0.2222222222222222,
              "#7201a8"
             ],
             [
              0.3333333333333333,
              "#9c179e"
             ],
             [
              0.4444444444444444,
              "#bd3786"
             ],
             [
              0.5555555555555556,
              "#d8576b"
             ],
             [
              0.6666666666666666,
              "#ed7953"
             ],
             [
              0.7777777777777778,
              "#fb9f3a"
             ],
             [
              0.8888888888888888,
              "#fdca26"
             ],
             [
              1,
              "#f0f921"
             ]
            ],
            "type": "contour"
           }
          ],
          "contourcarpet": [
           {
            "colorbar": {
             "outlinewidth": 0,
             "ticks": ""
            },
            "type": "contourcarpet"
           }
          ],
          "heatmap": [
           {
            "colorbar": {
             "outlinewidth": 0,
             "ticks": ""
            },
            "colorscale": [
             [
              0,
              "#0d0887"
             ],
             [
              0.1111111111111111,
              "#46039f"
             ],
             [
              0.2222222222222222,
              "#7201a8"
             ],
             [
              0.3333333333333333,
              "#9c179e"
             ],
             [
              0.4444444444444444,
              "#bd3786"
             ],
             [
              0.5555555555555556,
              "#d8576b"
             ],
             [
              0.6666666666666666,
              "#ed7953"
             ],
             [
              0.7777777777777778,
              "#fb9f3a"
             ],
             [
              0.8888888888888888,
              "#fdca26"
             ],
             [
              1,
              "#f0f921"
             ]
            ],
            "type": "heatmap"
           }
          ],
          "histogram": [
           {
            "marker": {
             "pattern": {
              "fillmode": "overlay",
              "size": 10,
              "solidity": 0.2
             }
            },
            "type": "histogram"
           }
          ],
          "histogram2d": [
           {
            "colorbar": {
             "outlinewidth": 0,
             "ticks": ""
            },
            "colorscale": [
             [
              0,
              "#0d0887"
             ],
             [
              0.1111111111111111,
              "#46039f"
             ],
             [
              0.2222222222222222,
              "#7201a8"
             ],
             [
              0.3333333333333333,
              "#9c179e"
             ],
             [
              0.4444444444444444,
              "#bd3786"
             ],
             [
              0.5555555555555556,
              "#d8576b"
             ],
             [
              0.6666666666666666,
              "#ed7953"
             ],
             [
              0.7777777777777778,
              "#fb9f3a"
             ],
             [
              0.8888888888888888,
              "#fdca26"
             ],
             [
              1,
              "#f0f921"
             ]
            ],
            "type": "histogram2d"
           }
          ],
          "histogram2dcontour": [
           {
            "colorbar": {
             "outlinewidth": 0,
             "ticks": ""
            },
            "colorscale": [
             [
              0,
              "#0d0887"
             ],
             [
              0.1111111111111111,
              "#46039f"
             ],
             [
              0.2222222222222222,
              "#7201a8"
             ],
             [
              0.3333333333333333,
              "#9c179e"
             ],
             [
              0.4444444444444444,
              "#bd3786"
             ],
             [
              0.5555555555555556,
              "#d8576b"
             ],
             [
              0.6666666666666666,
              "#ed7953"
             ],
             [
              0.7777777777777778,
              "#fb9f3a"
             ],
             [
              0.8888888888888888,
              "#fdca26"
             ],
             [
              1,
              "#f0f921"
             ]
            ],
            "type": "histogram2dcontour"
           }
          ],
          "mesh3d": [
           {
            "colorbar": {
             "outlinewidth": 0,
             "ticks": ""
            },
            "type": "mesh3d"
           }
          ],
          "parcoords": [
           {
            "line": {
             "colorbar": {
              "outlinewidth": 0,
              "ticks": ""
             }
            },
            "type": "parcoords"
           }
          ],
          "pie": [
           {
            "automargin": true,
            "type": "pie"
           }
          ],
          "scatter": [
           {
            "fillpattern": {
             "fillmode": "overlay",
             "size": 10,
             "solidity": 0.2
            },
            "type": "scatter"
           }
          ],
          "scatter3d": [
           {
            "line": {
             "colorbar": {
              "outlinewidth": 0,
              "ticks": ""
             }
            },
            "marker": {
             "colorbar": {
              "outlinewidth": 0,
              "ticks": ""
             }
            },
            "type": "scatter3d"
           }
          ],
          "scattercarpet": [
           {
            "marker": {
             "colorbar": {
              "outlinewidth": 0,
              "ticks": ""
             }
            },
            "type": "scattercarpet"
           }
          ],
          "scattergeo": [
           {
            "marker": {
             "colorbar": {
              "outlinewidth": 0,
              "ticks": ""
             }
            },
            "type": "scattergeo"
           }
          ],
          "scattergl": [
           {
            "marker": {
             "colorbar": {
              "outlinewidth": 0,
              "ticks": ""
             }
            },
            "type": "scattergl"
           }
          ],
          "scattermap": [
           {
            "marker": {
             "colorbar": {
              "outlinewidth": 0,
              "ticks": ""
             }
            },
            "type": "scattermap"
           }
          ],
          "scattermapbox": [
           {
            "marker": {
             "colorbar": {
              "outlinewidth": 0,
              "ticks": ""
             }
            },
            "type": "scattermapbox"
           }
          ],
          "scatterpolar": [
           {
            "marker": {
             "colorbar": {
              "outlinewidth": 0,
              "ticks": ""
             }
            },
            "type": "scatterpolar"
           }
          ],
          "scatterpolargl": [
           {
            "marker": {
             "colorbar": {
              "outlinewidth": 0,
              "ticks": ""
             }
            },
            "type": "scatterpolargl"
           }
          ],
          "scatterternary": [
           {
            "marker": {
             "colorbar": {
              "outlinewidth": 0,
              "ticks": ""
             }
            },
            "type": "scatterternary"
           }
          ],
          "surface": [
           {
            "colorbar": {
             "outlinewidth": 0,
             "ticks": ""
            },
            "colorscale": [
             [
              0,
              "#0d0887"
             ],
             [
              0.1111111111111111,
              "#46039f"
             ],
             [
              0.2222222222222222,
              "#7201a8"
             ],
             [
              0.3333333333333333,
              "#9c179e"
             ],
             [
              0.4444444444444444,
              "#bd3786"
             ],
             [
              0.5555555555555556,
              "#d8576b"
             ],
             [
              0.6666666666666666,
              "#ed7953"
             ],
             [
              0.7777777777777778,
              "#fb9f3a"
             ],
             [
              0.8888888888888888,
              "#fdca26"
             ],
             [
              1,
              "#f0f921"
             ]
            ],
            "type": "surface"
           }
          ],
          "table": [
           {
            "cells": {
             "fill": {
              "color": "#EBF0F8"
             },
             "line": {
              "color": "white"
             }
            },
            "header": {
             "fill": {
              "color": "#C8D4E3"
             },
             "line": {
              "color": "white"
             }
            },
            "type": "table"
           }
          ]
         },
         "layout": {
          "annotationdefaults": {
           "arrowcolor": "#2a3f5f",
           "arrowhead": 0,
           "arrowwidth": 1
          },
          "autotypenumbers": "strict",
          "coloraxis": {
           "colorbar": {
            "outlinewidth": 0,
            "ticks": ""
           }
          },
          "colorscale": {
           "diverging": [
            [
             0,
             "#8e0152"
            ],
            [
             0.1,
             "#c51b7d"
            ],
            [
             0.2,
             "#de77ae"
            ],
            [
             0.3,
             "#f1b6da"
            ],
            [
             0.4,
             "#fde0ef"
            ],
            [
             0.5,
             "#f7f7f7"
            ],
            [
             0.6,
             "#e6f5d0"
            ],
            [
             0.7,
             "#b8e186"
            ],
            [
             0.8,
             "#7fbc41"
            ],
            [
             0.9,
             "#4d9221"
            ],
            [
             1,
             "#276419"
            ]
           ],
           "sequential": [
            [
             0,
             "#0d0887"
            ],
            [
             0.1111111111111111,
             "#46039f"
            ],
            [
             0.2222222222222222,
             "#7201a8"
            ],
            [
             0.3333333333333333,
             "#9c179e"
            ],
            [
             0.4444444444444444,
             "#bd3786"
            ],
            [
             0.5555555555555556,
             "#d8576b"
            ],
            [
             0.6666666666666666,
             "#ed7953"
            ],
            [
             0.7777777777777778,
             "#fb9f3a"
            ],
            [
             0.8888888888888888,
             "#fdca26"
            ],
            [
             1,
             "#f0f921"
            ]
           ],
           "sequentialminus": [
            [
             0,
             "#0d0887"
            ],
            [
             0.1111111111111111,
             "#46039f"
            ],
            [
             0.2222222222222222,
             "#7201a8"
            ],
            [
             0.3333333333333333,
             "#9c179e"
            ],
            [
             0.4444444444444444,
             "#bd3786"
            ],
            [
             0.5555555555555556,
             "#d8576b"
            ],
            [
             0.6666666666666666,
             "#ed7953"
            ],
            [
             0.7777777777777778,
             "#fb9f3a"
            ],
            [
             0.8888888888888888,
             "#fdca26"
            ],
            [
             1,
             "#f0f921"
            ]
           ]
          },
          "colorway": [
           "#636efa",
           "#EF553B",
           "#00cc96",
           "#ab63fa",
           "#FFA15A",
           "#19d3f3",
           "#FF6692",
           "#B6E880",
           "#FF97FF",
           "#FECB52"
          ],
          "font": {
           "color": "#2a3f5f"
          },
          "geo": {
           "bgcolor": "white",
           "lakecolor": "white",
           "landcolor": "#E5ECF6",
           "showlakes": true,
           "showland": true,
           "subunitcolor": "white"
          },
          "hoverlabel": {
           "align": "left"
          },
          "hovermode": "closest",
          "mapbox": {
           "style": "light"
          },
          "paper_bgcolor": "white",
          "plot_bgcolor": "#E5ECF6",
          "polar": {
           "angularaxis": {
            "gridcolor": "white",
            "linecolor": "white",
            "ticks": ""
           },
           "bgcolor": "#E5ECF6",
           "radialaxis": {
            "gridcolor": "white",
            "linecolor": "white",
            "ticks": ""
           }
          },
          "scene": {
           "xaxis": {
            "backgroundcolor": "#E5ECF6",
            "gridcolor": "white",
            "gridwidth": 2,
            "linecolor": "white",
            "showbackground": true,
            "ticks": "",
            "zerolinecolor": "white"
           },
           "yaxis": {
            "backgroundcolor": "#E5ECF6",
            "gridcolor": "white",
            "gridwidth": 2,
            "linecolor": "white",
            "showbackground": true,
            "ticks": "",
            "zerolinecolor": "white"
           },
           "zaxis": {
            "backgroundcolor": "#E5ECF6",
            "gridcolor": "white",
            "gridwidth": 2,
            "linecolor": "white",
            "showbackground": true,
            "ticks": "",
            "zerolinecolor": "white"
           }
          },
          "shapedefaults": {
           "line": {
            "color": "#2a3f5f"
           }
          },
          "ternary": {
           "aaxis": {
            "gridcolor": "white",
            "linecolor": "white",
            "ticks": ""
           },
           "baxis": {
            "gridcolor": "white",
            "linecolor": "white",
            "ticks": ""
           },
           "bgcolor": "#E5ECF6",
           "caxis": {
            "gridcolor": "white",
            "linecolor": "white",
            "ticks": ""
           }
          },
          "title": {
           "x": 0.05
          },
          "xaxis": {
           "automargin": true,
           "gridcolor": "white",
           "linecolor": "white",
           "ticks": "",
           "title": {
            "standoff": 15
           },
           "zerolinecolor": "white",
           "zerolinewidth": 2
          },
          "yaxis": {
           "automargin": true,
           "gridcolor": "white",
           "linecolor": "white",
           "ticks": "",
           "title": {
            "standoff": 15
           },
           "zerolinecolor": "white",
           "zerolinewidth": 2
          }
         }
        },
        "title": {
         "text": "Correlação (Pearson) com o Ibovespa (N=2485 dias)"
        },
        "uniformtext": {
         "minsize": 8
        },
        "xaxis": {
         "anchor": "y",
         "domain": [
          0,
          1
         ],
         "title": {
          "text": "Coeficiente de Correlação (r)"
         }
        },
        "yaxis": {
         "anchor": "x",
         "domain": [
          0,
          1
         ],
         "title": {
          "text": "Ações"
         }
        }
       }
      }
     },
     "metadata": {},
     "output_type": "display_data"
    },
    {
     "name": "stdout",
     "output_type": "stream",
     "text": [
      "\n",
      "Primeiras linhas da coluna BVSP:\n",
      "data\n",
      "2015-01-05    47517.0\n",
      "2015-01-06    48001.0\n",
      "2015-01-07    49463.0\n",
      "2015-01-08    49943.0\n",
      "2015-01-09    48840.0\n",
      "Name: BVSP, dtype: float64\n",
      "\n",
      "Contagem de valores válidos (non-NaN) no BVSP:\n",
      "2477\n",
      "\n",
      "Total de NaNs por Ticker no df_pivot:\n",
      "ticker\n",
      "BVSP        8\n",
      "ABEV3.SA    0\n",
      "BEEF3.SA    0\n",
      "BRFS3.SA    0\n",
      "CMIG4.SA    0\n",
      "CPFE3.SA    0\n",
      "ECOR3.SA    0\n",
      "EGIE3.SA    0\n",
      "ELET3.SA    0\n",
      "ENEV3.SA    0\n",
      "MRFG3.SA    0\n",
      "SBSP3.SA    0\n",
      "SMTO3.SA    0\n",
      "dtype: int64\n"
     ]
    }
   ],
   "source": [
    "import numpy as np\n",
    "from scipy import stats\n",
    "import pandas as pd\n",
    "from sqlalchemy import create_engine\n",
    "import re\n",
    "import plotly.express as px\n",
    "\n",
    "# --- FUNÇÃO DE CÁLCULO DE IC (Transformação de Fisher) ---\n",
    "def calcular_ic_correlacao(r, n, nivel_confianca=0.95):\n",
    "    \"\"\"Calcula o IC para o coeficiente de correlação usando a Transformação de Fisher.\"\"\"\n",
    "    \n",
    "    # Limita r para evitar erros em np.arctanh se for exatamente 1 ou -1\n",
    "    r_clipped = np.clip(r, -0.99999999, 0.99999999) \n",
    "    \n",
    "    # n precisa ser pelo menos 4 para que n-3 seja >= 1\n",
    "    if n <= 3:\n",
    "        return np.nan, np.nan \n",
    "\n",
    "    # 1. Transformação de Fisher (r para z)\n",
    "    z = np.arctanh(r_clipped)\n",
    "    \n",
    "    # 2. Erro Padrão de z e Valor Z crítico\n",
    "    se_z = 1 / np.sqrt(n - 3)\n",
    "    alpha = 1 - nivel_confianca\n",
    "    z_critico = stats.norm.ppf(1 - alpha/2)\n",
    "    \n",
    "    # 3. Limites do IC na escala Z\n",
    "    z_lower = z - z_critico * se_z\n",
    "    z_upper = z + z_critico * se_z\n",
    "    \n",
    "    # 4. Transformação inversa (Z de volta para r)\n",
    "    r_lower = np.tanh(z_lower)\n",
    "    r_upper = np.tanh(z_upper)\n",
    "    \n",
    "    return r_lower, r_upper\n",
    "# --------------------------------------------------------\n",
    "\n",
    "# --- CONFIGURAÇÕES E CONEXÃO (Se necessário, mantenha no topo do notebook) ---\n",
    "DB_USER = \"user_invest\"\n",
    "DB_PASSWORD = \"senha_forte\"\n",
    "DB_HOST = 'localhost'\n",
    "DB_PORT = '5432'\n",
    "DB_NAME = 'postgres'\n",
    "TABLE_NAME = 'companys'\n",
    "IBOV_TICKER = 'BVSP'\n",
    "\n",
    "tickers_list = [\"QUAL3.SA\", \"DASA3.SA\", \"HAPV3.SA\", \"FLRY3.SA\", \"ODPV3.SA\", \"RDOR3.SA\",\n",
    "    \"MATD3.SA\", \"GNDI3.SA\", \"PFRM3.SA\", \"RADL3.SA\", \"HYPE3.SA\", \"BLAU3.SA\",\n",
    "    \"ONCO3.SA\", \"AALR3.SA\",\n",
    "    \"CCRO3.SA\", \"ECOR3.SA\", \"SBSP3.SA\", \"RAIL3.SA\", \"RENT3.SA\",\n",
    "    \"ELET3.SA\", \"ENGI11.SA\", \"EQTL3.SA\", \"EGIE3.SA\", \"CMIG4.SA\", \"CPLE6.SA\",\n",
    "    \"NEOE3.SA\", \"CPFE3.SA\", \"TAEE11.SA\", \"ENEV3.SA\", \"ISAE4.SA\", \"AURE3.SA\",\n",
    "    \"AESB3.SA\", \"LIGT3.SA\",\n",
    "    \"BRFS3.SA\", \"BEEF3.SA\", \"MRFG3.SA\", \"JBSS3.SA\", \"ABEV3.SA\",\n",
    "    \"CAML3.SA\", \"MDIA3.SA\", \"SMTO3.SA\",\n",
    "    \"^BVSP\"\n",
    "    ]\n",
    "\n",
    "try:\n",
    "    # --- CONEXÃO E CARREGAMENTO DE DADOS (Início da Lógica da Célula 13) ---\n",
    "    db_url = f'postgresql://{DB_USER}:{DB_PASSWORD}@{DB_HOST}:{DB_PORT}/{DB_NAME}'\n",
    "    engine = create_engine(db_url)\n",
    "    \n",
    "    # 1. Carregar e pivotar os dados\n",
    "    tickers_sql_list = \", \".join([f\"'{t}'\" for t in tickers_list])\n",
    "    query = f\"\"\"\n",
    "        SELECT data, ticker, \"Fechamento\" \n",
    "        FROM {TABLE_NAME} \n",
    "        WHERE ticker IN ({tickers_sql_list}) \n",
    "        ORDER BY data;\n",
    "        \"\"\"\n",
    "    df = pd.read_sql(query, engine)\n",
    "\n",
    "    # Limpeza dos nomes dos tickers\n",
    "    df['ticker'] = df['ticker'].apply(lambda x: re.sub(r'(\\\\.SA)$', '',x).replace('^', ''))\n",
    "    df_pivot = df.pivot_table(index='data', columns='ticker', values='Fechamento')\n",
    "    \n",
    "    OUTRAS_ACOES = [t for t in df_pivot.columns if t != IBOV_TICKER]\n",
    "    N_OBSERVACOES_TOTAL = len(df_pivot)\n",
    "\n",
    "    resultados_correlacao = []\n",
    "    \n",
    "    # 2. Loop para calcular as estatísticas por par\n",
    "    for ticker in OUTRAS_ACOES:\n",
    "        # Cria um DataFrame temporário para alinhar e remover NaNs em pares\n",
    "        df_temp = pd.DataFrame({'acao': df_pivot[ticker], 'ibov': df_pivot[IBOV_TICKER]}).dropna()\n",
    "        \n",
    "        serie_acao_limpa = df_temp['acao']\n",
    "        serie_ibov_limpa = df_temp['ibov']\n",
    "        n_valido = len(serie_acao_limpa)\n",
    "        \n",
    "        # 3. Verificação de dados: N suficiente e não variância zero\n",
    "        # Se n < 5 (ou 4 para o IC), ou se a variação de um dos ativos for zero (std() == 0),\n",
    "        # o cálculo da correlação e do IC não é possível ou é inválido.\n",
    "        if n_valido < 5 or serie_acao_limpa.std() == 0 or serie_ibov_limpa.std() == 0:\n",
    "            resultados_correlacao.append({\n",
    "                'Ticker': ticker,\n",
    "                'Correlacao': np.nan,\n",
    "                'P_Valor': np.nan,\n",
    "                'IC_Inferior': np.nan,\n",
    "                'IC_Superior': np.nan,\n",
    "                'N': n_valido\n",
    "            })\n",
    "            continue\n",
    "        \n",
    "        # 4. Correlação de Pearson e p-valor\n",
    "        r, p_value = stats.pearsonr(serie_acao_limpa, serie_ibov_limpa)\n",
    "        \n",
    "        # 5. Intervalo de Confiança\n",
    "        ic_inferior, ic_superior = calcular_ic_correlacao(r, n_valido, nivel_confianca=0.95)\n",
    "        \n",
    "        resultados_correlacao.append({\n",
    "            'Ticker': ticker,\n",
    "            'Correlacao': r,\n",
    "            'P_Valor': p_value,\n",
    "            'IC_Inferior': ic_inferior,\n",
    "            'IC_Superior': ic_superior,\n",
    "            'N': n_valido\n",
    "        })\n",
    "    \n",
    "    # 6. Criar o DataFrame final e ordenar\n",
    "    df_resultados = pd.DataFrame(resultados_correlacao).sort_values(by='Correlacao', ascending=False).reset_index(drop=True)\n",
    "    \n",
    "    # 7. Adicionar coluna de significância\n",
    "    df_resultados['Significancia'] = df_resultados['P_Valor'].apply(\n",
    "        lambda p: 'Significativo (p < 0.05)' if p < 0.05 else 'Não Significativo (p ≥ 0.05)'\n",
    "    )\n",
    "    \n",
    "    # ----------------------------------------------------------------------------------\n",
    "    # EXIBIÇÃO DA TABELA E GRÁFICO (como no código original)\n",
    "    # ----------------------------------------------------------------------------------\n",
    "    \n",
    "    print(\"--- Tabela de Resultados Estatísticos ---\\n\")\n",
    "    print(df_resultados[['Ticker', 'Correlacao', 'IC_Inferior', 'IC_Superior', 'P_Valor', 'Significancia']])\n",
    "    \n",
    "    plot_height = len(df_resultados) * 25 + 150 \n",
    "        \n",
    "    fig = px.bar(\n",
    "        df_resultados,\n",
    "        x='Correlacao',\n",
    "        y='Ticker',\n",
    "        orientation='h',\n",
    "        color='Significancia',\n",
    "        color_discrete_map={\n",
    "            'Significativo (p < 0.05)': 'royalblue', \n",
    "            'Não Significativo (p ≥ 0.05)': 'lightcoral'\n",
    "        },\n",
    "        title=f'Correlação (Pearson) com o Ibovespa (N={N_OBSERVACOES_TOTAL} dias)',\n",
    "        labels={'Correlacao': 'Coeficiente de Correlação (r)', 'Ticker': 'Ações'},\n",
    "        hover_data={\n",
    "            'Correlacao': ':.3f', \n",
    "            'P_Valor': ':.4f',\n",
    "            'IC_Inferior': ':.3f',\n",
    "            'IC_Superior': ':.3f',\n",
    "            'N': True\n",
    "        },\n",
    "        height=plot_height\n",
    "    )\n",
    "    \n",
    "    fig.update_layout(uniformtext_minsize=8)\n",
    "    fig.show()\n",
    "    \n",
    "    print(\"\\nPrimeiras linhas da coluna BVSP:\")\n",
    "    print(df_pivot['BVSP'].head())\n",
    "    \n",
    "    # Verificação 2: Quantos valores válidos (não-NaN) tem o BVSP?\n",
    "    print(\"\\nContagem de valores válidos (non-NaN) no BVSP:\")\n",
    "    print(df_pivot['BVSP'].count())\n",
    "    \n",
    "    # Verificação 3: Onde estão os NaNs? (Mostra o total de NaNs por ticker)\n",
    "    print(\"\\nTotal de NaNs por Ticker no df_pivot:\")\n",
    "    print(df_pivot.isnull().sum().sort_values(ascending=False))\n",
    "\n",
    "except Exception as e:\n",
    "    print(f\"Ocorreu um erro: {e}\")"
   ]
  },
  {
   "cell_type": "code",
   "execution_count": null,
   "id": "a2784e2a-3538-4eb3-985f-e09ff8249617",
   "metadata": {},
   "outputs": [],
   "source": []
  }
 ],
 "metadata": {
  "kernelspec": {
   "display_name": "Python 3 (ipykernel)",
   "language": "python",
   "name": "python3"
  },
  "language_info": {
   "codemirror_mode": {
    "name": "ipython",
    "version": 3
   },
   "file_extension": ".py",
   "mimetype": "text/x-python",
   "name": "python",
   "nbconvert_exporter": "python",
   "pygments_lexer": "ipython3",
   "version": "3.12.3"
  }
 },
 "nbformat": 4,
 "nbformat_minor": 5
}
