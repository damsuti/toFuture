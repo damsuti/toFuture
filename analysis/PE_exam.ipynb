{
 "cells": [
  {
   "cell_type": "markdown",
   "id": "89d2307c",
   "metadata": {},
   "source": [
    "# Create for study about subjects the exam\n",
    "\n",
    "\n",
    "### 1) Introdução a correlação.\n",
    "\n",
    "* Interesse em analisar o comportamento de duas variáveis quantitativas.(causa -> efeito)\n",
    "* Interesse em obter uma medida estatística que indique se existe ou não associação linear entre duas variáveis; e se existe, qual a sua magnitude e sinal.\n",
    "* A correlação entre duas variáveis é medida através da seguinte fómula.\n",
    "    * $$\n",
    "        r = \\frac{\\sum_{i=1}^{n} X_i Y_i - n\\bar{x}\\bar{y}}\n",
    "        {\\sqrt{\\sum_{i=1}^{n} X_i^2 - n(\\bar{x})^2} \\sqrt{\\sum_{i=1}^{n} Y_i^2 - n(\\bar{y})^2}}\n",
    "    $$\n",
    "* No exemplo abaixo podemos observar correlações bem fortes (> 0.7 ou <-0.7) uma correlação média(|>0.3 && <0.7 | ECOR3) e duas correlações fracas( BEEF3, ABEV3 )"
   ]
  },
  {
   "cell_type": "code",
   "execution_count": 1,
   "id": "f6946ce2",
   "metadata": {
    "vscode": {
     "languageId": "plaintext"
    }
   },
   "outputs": [
    {
     "data": {
      "application/vnd.plotly.v1+json": {
       "config": {
        "plotlyServerURL": "https://plot.ly"
       },
       "data": [
        {
         "hovertemplate": "Coeficiente de Correlação=%{marker.color:.3f}<br>Ações=%{y}<extra></extra>",
         "legendgroup": "",
         "marker": {
          "color": {
           "bdata": "l4HNiutc6b946zlk8Q/Fv2nKFznoALg/KfPjHcCn0z97Hv34WqbmP8a7sg6Fiuk/OS61c7JF6j8+M3849I3qP/EW+2taGes/9tbkshLw6z/IOKTHSuXtP9/tI7lN++0/",
           "dtype": "f8"
          },
          "coloraxis": "coloraxis",
          "pattern": {
           "shape": ""
          }
         },
         "name": "",
         "orientation": "h",
         "showlegend": false,
         "textposition": "auto",
         "type": "bar",
         "x": {
          "bdata": "l4HNiutc6b946zlk8Q/Fv2nKFznoALg/KfPjHcCn0z97Hv34WqbmP8a7sg6Fiuk/OS61c7JF6j8+M3849I3qP/EW+2taGes/9tbkshLw6z/IOKTHSuXtP9/tI7lN++0/",
          "dtype": "f8"
         },
         "xaxis": "x",
         "y": [
          "BRFS3",
          "ABEV3",
          "BEEF3",
          "ECOR3",
          "MRFG3",
          "SMTO3",
          "CMIG4",
          "SBSP3",
          "ENEV3",
          "CPFE3",
          "ELET3",
          "EGIE3"
         ],
         "yaxis": "y"
        }
       ],
       "layout": {
        "barmode": "relative",
        "coloraxis": {
         "colorbar": {
          "title": {
           "text": "Coeficiente de Correlação"
          }
         },
         "colorscale": [
          [
           0,
           "rgb(150,0,90)"
          ],
          [
           0.125,
           "rgb(0,0,200)"
          ],
          [
           0.25,
           "rgb(0,25,255)"
          ],
          [
           0.375,
           "rgb(0,152,255)"
          ],
          [
           0.5,
           "rgb(44,255,150)"
          ],
          [
           0.625,
           "rgb(151,255,0)"
          ],
          [
           0.75,
           "rgb(255,234,0)"
          ],
          [
           0.875,
           "rgb(255,111,0)"
          ],
          [
           1,
           "rgb(255,0,0)"
          ]
         ]
        },
        "height": 450,
        "legend": {
         "tracegroupgap": 0
        },
        "template": {
         "data": {
          "bar": [
           {
            "error_x": {
             "color": "#2a3f5f"
            },
            "error_y": {
             "color": "#2a3f5f"
            },
            "marker": {
             "line": {
              "color": "#E5ECF6",
              "width": 0.5
             },
             "pattern": {
              "fillmode": "overlay",
              "size": 10,
              "solidity": 0.2
             }
            },
            "type": "bar"
           }
          ],
          "barpolar": [
           {
            "marker": {
             "line": {
              "color": "#E5ECF6",
              "width": 0.5
             },
             "pattern": {
              "fillmode": "overlay",
              "size": 10,
              "solidity": 0.2
             }
            },
            "type": "barpolar"
           }
          ],
          "carpet": [
           {
            "aaxis": {
             "endlinecolor": "#2a3f5f",
             "gridcolor": "white",
             "linecolor": "white",
             "minorgridcolor": "white",
             "startlinecolor": "#2a3f5f"
            },
            "baxis": {
             "endlinecolor": "#2a3f5f",
             "gridcolor": "white",
             "linecolor": "white",
             "minorgridcolor": "white",
             "startlinecolor": "#2a3f5f"
            },
            "type": "carpet"
           }
          ],
          "choropleth": [
           {
            "colorbar": {
             "outlinewidth": 0,
             "ticks": ""
            },
            "type": "choropleth"
           }
          ],
          "contour": [
           {
            "colorbar": {
             "outlinewidth": 0,
             "ticks": ""
            },
            "colorscale": [
             [
              0,
              "#0d0887"
             ],
             [
              0.1111111111111111,
              "#46039f"
             ],
             [
              0.2222222222222222,
              "#7201a8"
             ],
             [
              0.3333333333333333,
              "#9c179e"
             ],
             [
              0.4444444444444444,
              "#bd3786"
             ],
             [
              0.5555555555555556,
              "#d8576b"
             ],
             [
              0.6666666666666666,
              "#ed7953"
             ],
             [
              0.7777777777777778,
              "#fb9f3a"
             ],
             [
              0.8888888888888888,
              "#fdca26"
             ],
             [
              1,
              "#f0f921"
             ]
            ],
            "type": "contour"
           }
          ],
          "contourcarpet": [
           {
            "colorbar": {
             "outlinewidth": 0,
             "ticks": ""
            },
            "type": "contourcarpet"
           }
          ],
          "heatmap": [
           {
            "colorbar": {
             "outlinewidth": 0,
             "ticks": ""
            },
            "colorscale": [
             [
              0,
              "#0d0887"
             ],
             [
              0.1111111111111111,
              "#46039f"
             ],
             [
              0.2222222222222222,
              "#7201a8"
             ],
             [
              0.3333333333333333,
              "#9c179e"
             ],
             [
              0.4444444444444444,
              "#bd3786"
             ],
             [
              0.5555555555555556,
              "#d8576b"
             ],
             [
              0.6666666666666666,
              "#ed7953"
             ],
             [
              0.7777777777777778,
              "#fb9f3a"
             ],
             [
              0.8888888888888888,
              "#fdca26"
             ],
             [
              1,
              "#f0f921"
             ]
            ],
            "type": "heatmap"
           }
          ],
          "histogram": [
           {
            "marker": {
             "pattern": {
              "fillmode": "overlay",
              "size": 10,
              "solidity": 0.2
             }
            },
            "type": "histogram"
           }
          ],
          "histogram2d": [
           {
            "colorbar": {
             "outlinewidth": 0,
             "ticks": ""
            },
            "colorscale": [
             [
              0,
              "#0d0887"
             ],
             [
              0.1111111111111111,
              "#46039f"
             ],
             [
              0.2222222222222222,
              "#7201a8"
             ],
             [
              0.3333333333333333,
              "#9c179e"
             ],
             [
              0.4444444444444444,
              "#bd3786"
             ],
             [
              0.5555555555555556,
              "#d8576b"
             ],
             [
              0.6666666666666666,
              "#ed7953"
             ],
             [
              0.7777777777777778,
              "#fb9f3a"
             ],
             [
              0.8888888888888888,
              "#fdca26"
             ],
             [
              1,
              "#f0f921"
             ]
            ],
            "type": "histogram2d"
           }
          ],
          "histogram2dcontour": [
           {
            "colorbar": {
             "outlinewidth": 0,
             "ticks": ""
            },
            "colorscale": [
             [
              0,
              "#0d0887"
             ],
             [
              0.1111111111111111,
              "#46039f"
             ],
             [
              0.2222222222222222,
              "#7201a8"
             ],
             [
              0.3333333333333333,
              "#9c179e"
             ],
             [
              0.4444444444444444,
              "#bd3786"
             ],
             [
              0.5555555555555556,
              "#d8576b"
             ],
             [
              0.6666666666666666,
              "#ed7953"
             ],
             [
              0.7777777777777778,
              "#fb9f3a"
             ],
             [
              0.8888888888888888,
              "#fdca26"
             ],
             [
              1,
              "#f0f921"
             ]
            ],
            "type": "histogram2dcontour"
           }
          ],
          "mesh3d": [
           {
            "colorbar": {
             "outlinewidth": 0,
             "ticks": ""
            },
            "type": "mesh3d"
           }
          ],
          "parcoords": [
           {
            "line": {
             "colorbar": {
              "outlinewidth": 0,
              "ticks": ""
             }
            },
            "type": "parcoords"
           }
          ],
          "pie": [
           {
            "automargin": true,
            "type": "pie"
           }
          ],
          "scatter": [
           {
            "fillpattern": {
             "fillmode": "overlay",
             "size": 10,
             "solidity": 0.2
            },
            "type": "scatter"
           }
          ],
          "scatter3d": [
           {
            "line": {
             "colorbar": {
              "outlinewidth": 0,
              "ticks": ""
             }
            },
            "marker": {
             "colorbar": {
              "outlinewidth": 0,
              "ticks": ""
             }
            },
            "type": "scatter3d"
           }
          ],
          "scattercarpet": [
           {
            "marker": {
             "colorbar": {
              "outlinewidth": 0,
              "ticks": ""
             }
            },
            "type": "scattercarpet"
           }
          ],
          "scattergeo": [
           {
            "marker": {
             "colorbar": {
              "outlinewidth": 0,
              "ticks": ""
             }
            },
            "type": "scattergeo"
           }
          ],
          "scattergl": [
           {
            "marker": {
             "colorbar": {
              "outlinewidth": 0,
              "ticks": ""
             }
            },
            "type": "scattergl"
           }
          ],
          "scattermap": [
           {
            "marker": {
             "colorbar": {
              "outlinewidth": 0,
              "ticks": ""
             }
            },
            "type": "scattermap"
           }
          ],
          "scattermapbox": [
           {
            "marker": {
             "colorbar": {
              "outlinewidth": 0,
              "ticks": ""
             }
            },
            "type": "scattermapbox"
           }
          ],
          "scatterpolar": [
           {
            "marker": {
             "colorbar": {
              "outlinewidth": 0,
              "ticks": ""
             }
            },
            "type": "scatterpolar"
           }
          ],
          "scatterpolargl": [
           {
            "marker": {
             "colorbar": {
              "outlinewidth": 0,
              "ticks": ""
             }
            },
            "type": "scatterpolargl"
           }
          ],
          "scatterternary": [
           {
            "marker": {
             "colorbar": {
              "outlinewidth": 0,
              "ticks": ""
             }
            },
            "type": "scatterternary"
           }
          ],
          "surface": [
           {
            "colorbar": {
             "outlinewidth": 0,
             "ticks": ""
            },
            "colorscale": [
             [
              0,
              "#0d0887"
             ],
             [
              0.1111111111111111,
              "#46039f"
             ],
             [
              0.2222222222222222,
              "#7201a8"
             ],
             [
              0.3333333333333333,
              "#9c179e"
             ],
             [
              0.4444444444444444,
              "#bd3786"
             ],
             [
              0.5555555555555556,
              "#d8576b"
             ],
             [
              0.6666666666666666,
              "#ed7953"
             ],
             [
              0.7777777777777778,
              "#fb9f3a"
             ],
             [
              0.8888888888888888,
              "#fdca26"
             ],
             [
              1,
              "#f0f921"
             ]
            ],
            "type": "surface"
           }
          ],
          "table": [
           {
            "cells": {
             "fill": {
              "color": "#EBF0F8"
             },
             "line": {
              "color": "white"
             }
            },
            "header": {
             "fill": {
              "color": "#C8D4E3"
             },
             "line": {
              "color": "white"
             }
            },
            "type": "table"
           }
          ]
         },
         "layout": {
          "annotationdefaults": {
           "arrowcolor": "#2a3f5f",
           "arrowhead": 0,
           "arrowwidth": 1
          },
          "autotypenumbers": "strict",
          "coloraxis": {
           "colorbar": {
            "outlinewidth": 0,
            "ticks": ""
           }
          },
          "colorscale": {
           "diverging": [
            [
             0,
             "#8e0152"
            ],
            [
             0.1,
             "#c51b7d"
            ],
            [
             0.2,
             "#de77ae"
            ],
            [
             0.3,
             "#f1b6da"
            ],
            [
             0.4,
             "#fde0ef"
            ],
            [
             0.5,
             "#f7f7f7"
            ],
            [
             0.6,
             "#e6f5d0"
            ],
            [
             0.7,
             "#b8e186"
            ],
            [
             0.8,
             "#7fbc41"
            ],
            [
             0.9,
             "#4d9221"
            ],
            [
             1,
             "#276419"
            ]
           ],
           "sequential": [
            [
             0,
             "#0d0887"
            ],
            [
             0.1111111111111111,
             "#46039f"
            ],
            [
             0.2222222222222222,
             "#7201a8"
            ],
            [
             0.3333333333333333,
             "#9c179e"
            ],
            [
             0.4444444444444444,
             "#bd3786"
            ],
            [
             0.5555555555555556,
             "#d8576b"
            ],
            [
             0.6666666666666666,
             "#ed7953"
            ],
            [
             0.7777777777777778,
             "#fb9f3a"
            ],
            [
             0.8888888888888888,
             "#fdca26"
            ],
            [
             1,
             "#f0f921"
            ]
           ],
           "sequentialminus": [
            [
             0,
             "#0d0887"
            ],
            [
             0.1111111111111111,
             "#46039f"
            ],
            [
             0.2222222222222222,
             "#7201a8"
            ],
            [
             0.3333333333333333,
             "#9c179e"
            ],
            [
             0.4444444444444444,
             "#bd3786"
            ],
            [
             0.5555555555555556,
             "#d8576b"
            ],
            [
             0.6666666666666666,
             "#ed7953"
            ],
            [
             0.7777777777777778,
             "#fb9f3a"
            ],
            [
             0.8888888888888888,
             "#fdca26"
            ],
            [
             1,
             "#f0f921"
            ]
           ]
          },
          "colorway": [
           "#636efa",
           "#EF553B",
           "#00cc96",
           "#ab63fa",
           "#FFA15A",
           "#19d3f3",
           "#FF6692",
           "#B6E880",
           "#FF97FF",
           "#FECB52"
          ],
          "font": {
           "color": "#2a3f5f"
          },
          "geo": {
           "bgcolor": "white",
           "lakecolor": "white",
           "landcolor": "#E5ECF6",
           "showlakes": true,
           "showland": true,
           "subunitcolor": "white"
          },
          "hoverlabel": {
           "align": "left"
          },
          "hovermode": "closest",
          "mapbox": {
           "style": "light"
          },
          "paper_bgcolor": "white",
          "plot_bgcolor": "#E5ECF6",
          "polar": {
           "angularaxis": {
            "gridcolor": "white",
            "linecolor": "white",
            "ticks": ""
           },
           "bgcolor": "#E5ECF6",
           "radialaxis": {
            "gridcolor": "white",
            "linecolor": "white",
            "ticks": ""
           }
          },
          "scene": {
           "xaxis": {
            "backgroundcolor": "#E5ECF6",
            "gridcolor": "white",
            "gridwidth": 2,
            "linecolor": "white",
            "showbackground": true,
            "ticks": "",
            "zerolinecolor": "white"
           },
           "yaxis": {
            "backgroundcolor": "#E5ECF6",
            "gridcolor": "white",
            "gridwidth": 2,
            "linecolor": "white",
            "showbackground": true,
            "ticks": "",
            "zerolinecolor": "white"
           },
           "zaxis": {
            "backgroundcolor": "#E5ECF6",
            "gridcolor": "white",
            "gridwidth": 2,
            "linecolor": "white",
            "showbackground": true,
            "ticks": "",
            "zerolinecolor": "white"
           }
          },
          "shapedefaults": {
           "line": {
            "color": "#2a3f5f"
           }
          },
          "ternary": {
           "aaxis": {
            "gridcolor": "white",
            "linecolor": "white",
            "ticks": ""
           },
           "baxis": {
            "gridcolor": "white",
            "linecolor": "white",
            "ticks": ""
           },
           "bgcolor": "#E5ECF6",
           "caxis": {
            "gridcolor": "white",
            "linecolor": "white",
            "ticks": ""
           }
          },
          "title": {
           "x": 0.05
          },
          "xaxis": {
           "automargin": true,
           "gridcolor": "white",
           "linecolor": "white",
           "ticks": "",
           "title": {
            "standoff": 15
           },
           "zerolinecolor": "white",
           "zerolinewidth": 2
          },
          "yaxis": {
           "automargin": true,
           "gridcolor": "white",
           "linecolor": "white",
           "ticks": "",
           "title": {
            "standoff": 15
           },
           "zerolinecolor": "white",
           "zerolinewidth": 2
          }
         }
        },
        "title": {
         "text": "Correlação entre o Ibovespa e Outras Ações (Fechamento)"
        },
        "uniformtext": {
         "minsize": 8
        },
        "xaxis": {
         "anchor": "y",
         "domain": [
          0,
          1
         ],
         "title": {
          "text": "Coeficiente de Correlação"
         }
        },
        "yaxis": {
         "anchor": "x",
         "domain": [
          0,
          1
         ],
         "title": {
          "text": "Ações"
         }
        }
       }
      }
     },
     "metadata": {},
     "output_type": "display_data"
    },
    {
     "name": "stdout",
     "output_type": "stream",
     "text": [
      "Você pode interagir com o gráfico e passar o mouse sobre as barras para ver os valores.\n"
     ]
    }
   ],
   "source": [
    "import pandas as pd\n",
    "from sqlalchemy import create_engine\n",
    "import os\n",
    "import re\n",
    "import plotly.express as px\n",
    "\n",
    "\n",
    "# Credenciais do banco de dados (ajuste se necessário)\n",
    "DB_USER = \"user_invest\"\n",
    "DB_PASSWORD = \"senha_forte\"\n",
    "DB_HOST = 'localhost'\n",
    "DB_PORT = '5432'\n",
    "DB_NAME = 'postgres'\n",
    "TABLE_NAME = 'companys'\n",
    "tickers_list = [\"QUAL3.SA\", \"DASA3.SA\", \"HAPV3.SA\", \"FLRY3.SA\", \"ODPV3.SA\", \"RDOR3.SA\",\n",
    "    \"MATD3.SA\", \"GNDI3.SA\", \"PFRM3.SA\", \"RADL3.SA\", \"HYPE3.SA\", \"BLAU3.SA\",\n",
    "    \"ONCO3.SA\", \"AALR3.SA\",\n",
    "    \"CCRO3.SA\", \"ECOR3.SA\", \"SBSP3.SA\", \"RAIL3.SA\", \"RENT3.SA\",\n",
    "    \"ELET3.SA\", \"ENGI11.SA\", \"EQTL3.SA\", \"EGIE3.SA\", \"CMIG4.SA\", \"CPLE6.SA\",\n",
    "    \"NEOE3.SA\", \"CPFE3.SA\", \"TAEE11.SA\", \"ENEV3.SA\", \"ISAE4.SA\", \"AURE3.SA\",\n",
    "    \"AESB3.SA\", \"LIGT3.SA\",\n",
    "    \"BRFS3.SA\", \"BEEF3.SA\", \"MRFG3.SA\", \"JBSS3.SA\", \"ABEV3.SA\",\n",
    "    \"CAML3.SA\", \"MDIA3.SA\", \"SMTO3.SA\",\n",
    "    \"^BVSP\"\n",
    "    ]\n",
    "\n",
    "try:\n",
    "#Cria conexão com o banco de dados postgres\n",
    "    db_url = f'postgresql://{DB_USER}:{DB_PASSWORD}@{DB_HOST}:{DB_PORT}/{DB_NAME}'\n",
    "    engine = create_engine(db_url)\n",
    "    query = f\"\"\"\n",
    "        SELECT data, ticker, \"Fechamento\" \n",
    "        FROM companys \n",
    "        WHERE ticker IN ({', '.join([f\"'{t}'\" for t in tickers_list])}) \n",
    "        ORDER BY data;\n",
    "        \"\"\"\n",
    "    df = pd.read_sql(query, engine)\n",
    "\n",
    "    df['ticker'] = df['ticker'].apply(lambda x: re.sub(r'(\\.SA)$', '',x).replace('^', ''))\n",
    "    #Reorganizando o dataframe para que cada ticker seja uma coluna.\n",
    "    df_pivot = df.pivot_table(index='data', columns='ticker', values='Fechamento')\n",
    "    #calculando as correlações das matrix.\n",
    "    correlation_matrix = df_pivot.corr()\n",
    "\n",
    "    #Pega a correlação do Ibovespa com as outras ações e ordena\n",
    "    ibov_correlations = correlation_matrix['BVSP'].drop('BVSP').sort_values()\n",
    "    df_plot = ibov_correlations.reset_index()\n",
    "    df_plot.columns = ['Ticker', 'Correlacao']\n",
    "    # Calcula a altura do gráfico com base no número de tickers\n",
    "    # Isso garante que haja espaço suficiente para todos os rótulos\n",
    "    plot_height = len(df_plot) * 25 + 150 \n",
    "    \n",
    "    # Cria o gráfico de barras dinâmico com Plotly\n",
    "    fig = px.bar(\n",
    "        df_plot,\n",
    "        x='Correlacao',\n",
    "        y='Ticker',\n",
    "        orientation='h',\n",
    "        title='Correlação entre o Ibovespa e Outras Ações (Fechamento)',\n",
    "        labels={'Correlacao': 'Coeficiente de Correlação', 'Ticker': 'Ações'},\n",
    "        color='Correlacao',\n",
    "        color_continuous_scale=px.colors.sequential.Rainbow,\n",
    "        hover_data={'Correlacao': ':.3f'},\n",
    "        height=plot_height # Adiciona a altura calculada\n",
    "    )\n",
    "\n",
    "    # Remove o ajuste automático de texto que pode ocultar rótulos\n",
    "    fig.update_layout(uniformtext_minsize=8) \n",
    "\n",
    "    # Exibe o gráfico diretamente na célula do Jupyter\n",
    "    fig.show()\n",
    "    print(\"Você pode interagir com o gráfico e passar o mouse sobre as barras para ver os valores.\")\n",
    "\n",
    "\n",
    "\n",
    "except Exception as e:\n",
    "    print(f\"Ocorreu um erro: {e}\")"
   ]
  },
  {
   "cell_type": "markdown",
   "id": "07cb76e1",
   "metadata": {},
   "source": [
    "### 2) Intervalo de Confiança e Teste de Hipóteses para Correlação.\n",
    "*   O coeficiente de correlação populacional é um parâmetro ou característica da população, representada pela letra grega $\\rho$ e desconhecido. \n",
    "*   Dada uma amostra simples do par de variáveis aleatórias (X,Y), o coeficiente r pode ser considerado uma estimativo do verdadeiro e desconhecido coeficiente $\\rho$ .\n",
    "*   Podemos usar o coeficiente de correlação amostral , r , para fazer várias inferencias sobre $\\rho$ .\n",
    "*   Uma população que tenha duas variáveis não correlacionadas, pode produzir uma amostra com coeficiente de relação diferente de 0, simplesmente deviado a seleção dos dados.\n"
   ]
  },
  {
   "cell_type": "code",
   "execution_count": 2,
   "id": "86a04996",
   "metadata": {},
   "outputs": [
    {
     "name": "stdout",
     "output_type": "stream",
     "text": [
      "--- Tabela de Resultados Estatísticos ---\n",
      "\n",
      "      Ticker  Correlacao  IC_Inferior  IC_Superior       P_Valor  \\\n",
      "0   EGIE3.SA    0.936927     0.931931     0.941567  0.000000e+00   \n",
      "1   ELET3.SA    0.934240     0.929039     0.939072  0.000000e+00   \n",
      "2   CPFE3.SA    0.873056     0.863358     0.882109  0.000000e+00   \n",
      "3   ENEV3.SA    0.846845     0.835321     0.857625  0.000000e+00   \n",
      "4   SBSP3.SA    0.829828     0.817150     0.841704  0.000000e+00   \n",
      "5   CMIG4.SA    0.821008     0.807742     0.833443  0.000000e+00   \n",
      "6   SMTO3.SA    0.798159     0.783401     0.812018  0.000000e+00   \n",
      "7   MRFG3.SA    0.707807     0.687590     0.726927  0.000000e+00   \n",
      "8   ECOR3.SA    0.307114     0.271007     0.342357  2.972592e-55   \n",
      "9   BEEF3.SA    0.093764     0.054581     0.132658  2.946389e-06   \n",
      "10  ABEV3.SA   -0.164549    -0.202620    -0.125981  1.698918e-16   \n",
      "11  BRFS3.SA   -0.792593    -0.806792    -0.777478  0.000000e+00   \n",
      "\n",
      "               Significancia  \n",
      "0   Significativo (p < 0.05)  \n",
      "1   Significativo (p < 0.05)  \n",
      "2   Significativo (p < 0.05)  \n",
      "3   Significativo (p < 0.05)  \n",
      "4   Significativo (p < 0.05)  \n",
      "5   Significativo (p < 0.05)  \n",
      "6   Significativo (p < 0.05)  \n",
      "7   Significativo (p < 0.05)  \n",
      "8   Significativo (p < 0.05)  \n",
      "9   Significativo (p < 0.05)  \n",
      "10  Significativo (p < 0.05)  \n",
      "11  Significativo (p < 0.05)  \n",
      "\n",
      "Primeiras linhas da coluna BVSP:\n",
      "data\n",
      "2015-01-05    47517.0\n",
      "2015-01-06    48001.0\n",
      "2015-01-07    49463.0\n",
      "2015-01-08    49943.0\n",
      "2015-01-09    48840.0\n",
      "Name: BVSP, dtype: float64\n",
      "\n",
      "Contagem de valores válidos (non-NaN) no BVSP:\n",
      "2477\n",
      "\n",
      "Total de NaNs por Ticker no df_pivot:\n",
      "ticker\n",
      "BVSP        8\n",
      "ABEV3.SA    0\n",
      "BEEF3.SA    0\n",
      "BRFS3.SA    0\n",
      "CMIG4.SA    0\n",
      "CPFE3.SA    0\n",
      "ECOR3.SA    0\n",
      "EGIE3.SA    0\n",
      "ELET3.SA    0\n",
      "ENEV3.SA    0\n",
      "MRFG3.SA    0\n",
      "SBSP3.SA    0\n",
      "SMTO3.SA    0\n",
      "dtype: int64\n"
     ]
    },
    {
     "data": {
      "application/vnd.plotly.v1+json": {
       "config": {
        "plotlyServerURL": "https://plot.ly"
       },
       "data": [
        {
         "customdata": {
          "bdata": "AAAAAAAAAAAaagGhYNLtPzOvjx5RIe4/AAAAAABao0AAAAAAAAAAAEl+VrWvuu0/DVaBst8M7j8AAAAAAFqjQAAAAAAAAAAAJbSveqCg6z+09YHDPDrsPwAAAAAAWqNAAAAAAAAAAADT6PcO8rrqP4Mq86uqces/AAAAAABao0AAAAAAAAAAAOxI9HQYJuo/VZ8EFz3v6j8AAAAAAFqjQAAAAAAAAAAAFvbJXwXZ6T9CZ++zkKvqPwAAAAAAWqNAAAAAAAAAAABlk6f4nhHpP2Zrzp0M/Ok/AAAAAABao0AAAAAAAAAAAAntdXG9AOY/t0yX0fxC5z8AAAAAAFqjQIpgQmK0J5002jGb/i5Y0T9YHbyELenVPwAAAAAAWqNA00ivrlK3yD4VsiSNDPKrPwzaF2/y+sA/AAAAAABao0DN/a/i5nuoPNKoSvp178m/Bk3LayYgwL8AAAAAAFqjQAAAAAAAAAAAs+rGfj7R6b8W81mKGeHovwAAAAAAWqNA",
          "dtype": "f8",
          "shape": "12, 4"
         },
         "hovertemplate": "Significancia=Significativo (p < 0.05)<br>Coeficiente de Correlação (r)=%{x:.3f}<br>Ações=%{y}<br>P_Valor=%{customdata[0]:.4f}<br>IC_Inferior=%{customdata[1]:.3f}<br>IC_Superior=%{customdata[2]:.3f}<br>N=%{customdata[3]}<extra></extra>",
         "legendgroup": "Significativo (p < 0.05)",
         "marker": {
          "color": "royalblue",
          "pattern": {
           "shape": ""
          }
         },
         "name": "Significativo (p < 0.05)",
         "orientation": "h",
         "showlegend": true,
         "textposition": "auto",
         "type": "bar",
         "x": {
          "bdata": "1O0juU377T+9OKTHSuXtP/TW5LIS8Os/4hb7a1oZ6z87M3849I3qPysutXOyReo/xbuyDoWK6T9/Hv34WqbmP9Ty4x3Ap9M/hMkXOegAuD9u6zlk8Q/Fv5iBzYrrXOm/",
          "dtype": "f8"
         },
         "xaxis": "x",
         "y": [
          "EGIE3.SA",
          "ELET3.SA",
          "CPFE3.SA",
          "ENEV3.SA",
          "SBSP3.SA",
          "CMIG4.SA",
          "SMTO3.SA",
          "MRFG3.SA",
          "ECOR3.SA",
          "BEEF3.SA",
          "ABEV3.SA",
          "BRFS3.SA"
         ],
         "yaxis": "y"
        }
       ],
       "layout": {
        "barmode": "relative",
        "height": 450,
        "legend": {
         "title": {
          "text": "Significancia"
         },
         "tracegroupgap": 0
        },
        "template": {
         "data": {
          "bar": [
           {
            "error_x": {
             "color": "#2a3f5f"
            },
            "error_y": {
             "color": "#2a3f5f"
            },
            "marker": {
             "line": {
              "color": "#E5ECF6",
              "width": 0.5
             },
             "pattern": {
              "fillmode": "overlay",
              "size": 10,
              "solidity": 0.2
             }
            },
            "type": "bar"
           }
          ],
          "barpolar": [
           {
            "marker": {
             "line": {
              "color": "#E5ECF6",
              "width": 0.5
             },
             "pattern": {
              "fillmode": "overlay",
              "size": 10,
              "solidity": 0.2
             }
            },
            "type": "barpolar"
           }
          ],
          "carpet": [
           {
            "aaxis": {
             "endlinecolor": "#2a3f5f",
             "gridcolor": "white",
             "linecolor": "white",
             "minorgridcolor": "white",
             "startlinecolor": "#2a3f5f"
            },
            "baxis": {
             "endlinecolor": "#2a3f5f",
             "gridcolor": "white",
             "linecolor": "white",
             "minorgridcolor": "white",
             "startlinecolor": "#2a3f5f"
            },
            "type": "carpet"
           }
          ],
          "choropleth": [
           {
            "colorbar": {
             "outlinewidth": 0,
             "ticks": ""
            },
            "type": "choropleth"
           }
          ],
          "contour": [
           {
            "colorbar": {
             "outlinewidth": 0,
             "ticks": ""
            },
            "colorscale": [
             [
              0,
              "#0d0887"
             ],
             [
              0.1111111111111111,
              "#46039f"
             ],
             [
              0.2222222222222222,
              "#7201a8"
             ],
             [
              0.3333333333333333,
              "#9c179e"
             ],
             [
              0.4444444444444444,
              "#bd3786"
             ],
             [
              0.5555555555555556,
              "#d8576b"
             ],
             [
              0.6666666666666666,
              "#ed7953"
             ],
             [
              0.7777777777777778,
              "#fb9f3a"
             ],
             [
              0.8888888888888888,
              "#fdca26"
             ],
             [
              1,
              "#f0f921"
             ]
            ],
            "type": "contour"
           }
          ],
          "contourcarpet": [
           {
            "colorbar": {
             "outlinewidth": 0,
             "ticks": ""
            },
            "type": "contourcarpet"
           }
          ],
          "heatmap": [
           {
            "colorbar": {
             "outlinewidth": 0,
             "ticks": ""
            },
            "colorscale": [
             [
              0,
              "#0d0887"
             ],
             [
              0.1111111111111111,
              "#46039f"
             ],
             [
              0.2222222222222222,
              "#7201a8"
             ],
             [
              0.3333333333333333,
              "#9c179e"
             ],
             [
              0.4444444444444444,
              "#bd3786"
             ],
             [
              0.5555555555555556,
              "#d8576b"
             ],
             [
              0.6666666666666666,
              "#ed7953"
             ],
             [
              0.7777777777777778,
              "#fb9f3a"
             ],
             [
              0.8888888888888888,
              "#fdca26"
             ],
             [
              1,
              "#f0f921"
             ]
            ],
            "type": "heatmap"
           }
          ],
          "histogram": [
           {
            "marker": {
             "pattern": {
              "fillmode": "overlay",
              "size": 10,
              "solidity": 0.2
             }
            },
            "type": "histogram"
           }
          ],
          "histogram2d": [
           {
            "colorbar": {
             "outlinewidth": 0,
             "ticks": ""
            },
            "colorscale": [
             [
              0,
              "#0d0887"
             ],
             [
              0.1111111111111111,
              "#46039f"
             ],
             [
              0.2222222222222222,
              "#7201a8"
             ],
             [
              0.3333333333333333,
              "#9c179e"
             ],
             [
              0.4444444444444444,
              "#bd3786"
             ],
             [
              0.5555555555555556,
              "#d8576b"
             ],
             [
              0.6666666666666666,
              "#ed7953"
             ],
             [
              0.7777777777777778,
              "#fb9f3a"
             ],
             [
              0.8888888888888888,
              "#fdca26"
             ],
             [
              1,
              "#f0f921"
             ]
            ],
            "type": "histogram2d"
           }
          ],
          "histogram2dcontour": [
           {
            "colorbar": {
             "outlinewidth": 0,
             "ticks": ""
            },
            "colorscale": [
             [
              0,
              "#0d0887"
             ],
             [
              0.1111111111111111,
              "#46039f"
             ],
             [
              0.2222222222222222,
              "#7201a8"
             ],
             [
              0.3333333333333333,
              "#9c179e"
             ],
             [
              0.4444444444444444,
              "#bd3786"
             ],
             [
              0.5555555555555556,
              "#d8576b"
             ],
             [
              0.6666666666666666,
              "#ed7953"
             ],
             [
              0.7777777777777778,
              "#fb9f3a"
             ],
             [
              0.8888888888888888,
              "#fdca26"
             ],
             [
              1,
              "#f0f921"
             ]
            ],
            "type": "histogram2dcontour"
           }
          ],
          "mesh3d": [
           {
            "colorbar": {
             "outlinewidth": 0,
             "ticks": ""
            },
            "type": "mesh3d"
           }
          ],
          "parcoords": [
           {
            "line": {
             "colorbar": {
              "outlinewidth": 0,
              "ticks": ""
             }
            },
            "type": "parcoords"
           }
          ],
          "pie": [
           {
            "automargin": true,
            "type": "pie"
           }
          ],
          "scatter": [
           {
            "fillpattern": {
             "fillmode": "overlay",
             "size": 10,
             "solidity": 0.2
            },
            "type": "scatter"
           }
          ],
          "scatter3d": [
           {
            "line": {
             "colorbar": {
              "outlinewidth": 0,
              "ticks": ""
             }
            },
            "marker": {
             "colorbar": {
              "outlinewidth": 0,
              "ticks": ""
             }
            },
            "type": "scatter3d"
           }
          ],
          "scattercarpet": [
           {
            "marker": {
             "colorbar": {
              "outlinewidth": 0,
              "ticks": ""
             }
            },
            "type": "scattercarpet"
           }
          ],
          "scattergeo": [
           {
            "marker": {
             "colorbar": {
              "outlinewidth": 0,
              "ticks": ""
             }
            },
            "type": "scattergeo"
           }
          ],
          "scattergl": [
           {
            "marker": {
             "colorbar": {
              "outlinewidth": 0,
              "ticks": ""
             }
            },
            "type": "scattergl"
           }
          ],
          "scattermap": [
           {
            "marker": {
             "colorbar": {
              "outlinewidth": 0,
              "ticks": ""
             }
            },
            "type": "scattermap"
           }
          ],
          "scattermapbox": [
           {
            "marker": {
             "colorbar": {
              "outlinewidth": 0,
              "ticks": ""
             }
            },
            "type": "scattermapbox"
           }
          ],
          "scatterpolar": [
           {
            "marker": {
             "colorbar": {
              "outlinewidth": 0,
              "ticks": ""
             }
            },
            "type": "scatterpolar"
           }
          ],
          "scatterpolargl": [
           {
            "marker": {
             "colorbar": {
              "outlinewidth": 0,
              "ticks": ""
             }
            },
            "type": "scatterpolargl"
           }
          ],
          "scatterternary": [
           {
            "marker": {
             "colorbar": {
              "outlinewidth": 0,
              "ticks": ""
             }
            },
            "type": "scatterternary"
           }
          ],
          "surface": [
           {
            "colorbar": {
             "outlinewidth": 0,
             "ticks": ""
            },
            "colorscale": [
             [
              0,
              "#0d0887"
             ],
             [
              0.1111111111111111,
              "#46039f"
             ],
             [
              0.2222222222222222,
              "#7201a8"
             ],
             [
              0.3333333333333333,
              "#9c179e"
             ],
             [
              0.4444444444444444,
              "#bd3786"
             ],
             [
              0.5555555555555556,
              "#d8576b"
             ],
             [
              0.6666666666666666,
              "#ed7953"
             ],
             [
              0.7777777777777778,
              "#fb9f3a"
             ],
             [
              0.8888888888888888,
              "#fdca26"
             ],
             [
              1,
              "#f0f921"
             ]
            ],
            "type": "surface"
           }
          ],
          "table": [
           {
            "cells": {
             "fill": {
              "color": "#EBF0F8"
             },
             "line": {
              "color": "white"
             }
            },
            "header": {
             "fill": {
              "color": "#C8D4E3"
             },
             "line": {
              "color": "white"
             }
            },
            "type": "table"
           }
          ]
         },
         "layout": {
          "annotationdefaults": {
           "arrowcolor": "#2a3f5f",
           "arrowhead": 0,
           "arrowwidth": 1
          },
          "autotypenumbers": "strict",
          "coloraxis": {
           "colorbar": {
            "outlinewidth": 0,
            "ticks": ""
           }
          },
          "colorscale": {
           "diverging": [
            [
             0,
             "#8e0152"
            ],
            [
             0.1,
             "#c51b7d"
            ],
            [
             0.2,
             "#de77ae"
            ],
            [
             0.3,
             "#f1b6da"
            ],
            [
             0.4,
             "#fde0ef"
            ],
            [
             0.5,
             "#f7f7f7"
            ],
            [
             0.6,
             "#e6f5d0"
            ],
            [
             0.7,
             "#b8e186"
            ],
            [
             0.8,
             "#7fbc41"
            ],
            [
             0.9,
             "#4d9221"
            ],
            [
             1,
             "#276419"
            ]
           ],
           "sequential": [
            [
             0,
             "#0d0887"
            ],
            [
             0.1111111111111111,
             "#46039f"
            ],
            [
             0.2222222222222222,
             "#7201a8"
            ],
            [
             0.3333333333333333,
             "#9c179e"
            ],
            [
             0.4444444444444444,
             "#bd3786"
            ],
            [
             0.5555555555555556,
             "#d8576b"
            ],
            [
             0.6666666666666666,
             "#ed7953"
            ],
            [
             0.7777777777777778,
             "#fb9f3a"
            ],
            [
             0.8888888888888888,
             "#fdca26"
            ],
            [
             1,
             "#f0f921"
            ]
           ],
           "sequentialminus": [
            [
             0,
             "#0d0887"
            ],
            [
             0.1111111111111111,
             "#46039f"
            ],
            [
             0.2222222222222222,
             "#7201a8"
            ],
            [
             0.3333333333333333,
             "#9c179e"
            ],
            [
             0.4444444444444444,
             "#bd3786"
            ],
            [
             0.5555555555555556,
             "#d8576b"
            ],
            [
             0.6666666666666666,
             "#ed7953"
            ],
            [
             0.7777777777777778,
             "#fb9f3a"
            ],
            [
             0.8888888888888888,
             "#fdca26"
            ],
            [
             1,
             "#f0f921"
            ]
           ]
          },
          "colorway": [
           "#636efa",
           "#EF553B",
           "#00cc96",
           "#ab63fa",
           "#FFA15A",
           "#19d3f3",
           "#FF6692",
           "#B6E880",
           "#FF97FF",
           "#FECB52"
          ],
          "font": {
           "color": "#2a3f5f"
          },
          "geo": {
           "bgcolor": "white",
           "lakecolor": "white",
           "landcolor": "#E5ECF6",
           "showlakes": true,
           "showland": true,
           "subunitcolor": "white"
          },
          "hoverlabel": {
           "align": "left"
          },
          "hovermode": "closest",
          "mapbox": {
           "style": "light"
          },
          "paper_bgcolor": "white",
          "plot_bgcolor": "#E5ECF6",
          "polar": {
           "angularaxis": {
            "gridcolor": "white",
            "linecolor": "white",
            "ticks": ""
           },
           "bgcolor": "#E5ECF6",
           "radialaxis": {
            "gridcolor": "white",
            "linecolor": "white",
            "ticks": ""
           }
          },
          "scene": {
           "xaxis": {
            "backgroundcolor": "#E5ECF6",
            "gridcolor": "white",
            "gridwidth": 2,
            "linecolor": "white",
            "showbackground": true,
            "ticks": "",
            "zerolinecolor": "white"
           },
           "yaxis": {
            "backgroundcolor": "#E5ECF6",
            "gridcolor": "white",
            "gridwidth": 2,
            "linecolor": "white",
            "showbackground": true,
            "ticks": "",
            "zerolinecolor": "white"
           },
           "zaxis": {
            "backgroundcolor": "#E5ECF6",
            "gridcolor": "white",
            "gridwidth": 2,
            "linecolor": "white",
            "showbackground": true,
            "ticks": "",
            "zerolinecolor": "white"
           }
          },
          "shapedefaults": {
           "line": {
            "color": "#2a3f5f"
           }
          },
          "ternary": {
           "aaxis": {
            "gridcolor": "white",
            "linecolor": "white",
            "ticks": ""
           },
           "baxis": {
            "gridcolor": "white",
            "linecolor": "white",
            "ticks": ""
           },
           "bgcolor": "#E5ECF6",
           "caxis": {
            "gridcolor": "white",
            "linecolor": "white",
            "ticks": ""
           }
          },
          "title": {
           "x": 0.05
          },
          "xaxis": {
           "automargin": true,
           "gridcolor": "white",
           "linecolor": "white",
           "ticks": "",
           "title": {
            "standoff": 15
           },
           "zerolinecolor": "white",
           "zerolinewidth": 2
          },
          "yaxis": {
           "automargin": true,
           "gridcolor": "white",
           "linecolor": "white",
           "ticks": "",
           "title": {
            "standoff": 15
           },
           "zerolinecolor": "white",
           "zerolinewidth": 2
          }
         }
        },
        "title": {
         "text": "Correlação (Pearson) com o Ibovespa (N=2485 dias)"
        },
        "uniformtext": {
         "minsize": 8
        },
        "xaxis": {
         "anchor": "y",
         "domain": [
          0,
          1
         ],
         "title": {
          "text": "Coeficiente de Correlação (r)"
         }
        },
        "yaxis": {
         "anchor": "x",
         "domain": [
          0,
          1
         ],
         "title": {
          "text": "Ações"
         }
        }
       }
      },
      "image/png": "[encoded data removed]"
     },
     "metadata": {},
     "output_type": "display_data"
    }
   ],
   "source": [
    "import numpy as np\n",
    "from scipy import stats\n",
    "import pandas as pd\n",
    "from sqlalchemy import create_engine\n",
    "import re\n",
    "import plotly.express as px\n",
    "\n",
    "# --- FUNÇÃO DE CÁLCULO DE IC (Transformação de Fisher) ---\n",
    "def calcular_ic_correlacao(r, n, nivel_confianca=0.95):\n",
    "    \"\"\"Calcula o IC para o coeficiente de correlação usando a Transformação de Fisher.\"\"\"\n",
    "    \n",
    "    # Limita r para evitar erros em np.arctanh se for exatamente 1 ou -1\n",
    "    r_clipped = np.clip(r, -0.99999999, 0.99999999) \n",
    "    \n",
    "    # n precisa ser pelo menos 4 para que n-3 seja >= 1\n",
    "    if n <= 3:\n",
    "        return np.nan, np.nan \n",
    "\n",
    "    # 1. Transformação de Fisher (r para z)\n",
    "    z = np.arctanh(r_clipped)\n",
    "    \n",
    "    # 2. Erro Padrão de z e Valor Z crítico\n",
    "    se_z = 1 / np.sqrt(n - 3)\n",
    "    alpha = 1 - nivel_confianca\n",
    "    z_critico = stats.norm.ppf(1 - alpha/2)\n",
    "    \n",
    "    # 3. Limites do IC na escala Z\n",
    "    z_lower = z - z_critico * se_z\n",
    "    z_upper = z + z_critico * se_z\n",
    "    \n",
    "    # 4. Transformação inversa (Z de volta para r)\n",
    "    r_lower = np.tanh(z_lower)\n",
    "    r_upper = np.tanh(z_upper)\n",
    "    \n",
    "    return r_lower, r_upper\n",
    "# --------------------------------------------------------\n",
    "\n",
    "# --- CONFIGURAÇÕES E CONEXÃO (Se necessário, mantenha no topo do notebook) ---\n",
    "DB_USER = \"user_invest\"\n",
    "DB_PASSWORD = \"senha_forte\"\n",
    "DB_HOST = 'localhost'\n",
    "DB_PORT = '5432'\n",
    "DB_NAME = 'postgres'\n",
    "TABLE_NAME = 'companys'\n",
    "IBOV_TICKER = 'BVSP'\n",
    "\n",
    "tickers_list = [\"QUAL3.SA\", \"DASA3.SA\", \"HAPV3.SA\", \"FLRY3.SA\", \"ODPV3.SA\", \"RDOR3.SA\",\n",
    "    \"MATD3.SA\", \"GNDI3.SA\", \"PFRM3.SA\", \"RADL3.SA\", \"HYPE3.SA\", \"BLAU3.SA\",\n",
    "    \"ONCO3.SA\", \"AALR3.SA\",\n",
    "    \"CCRO3.SA\", \"ECOR3.SA\", \"SBSP3.SA\", \"RAIL3.SA\", \"RENT3.SA\",\n",
    "    \"ELET3.SA\", \"ENGI11.SA\", \"EQTL3.SA\", \"EGIE3.SA\", \"CMIG4.SA\", \"CPLE6.SA\",\n",
    "    \"NEOE3.SA\", \"CPFE3.SA\", \"TAEE11.SA\", \"ENEV3.SA\", \"ISAE4.SA\", \"AURE3.SA\",\n",
    "    \"AESB3.SA\", \"LIGT3.SA\",\n",
    "    \"BRFS3.SA\", \"BEEF3.SA\", \"MRFG3.SA\", \"JBSS3.SA\", \"ABEV3.SA\",\n",
    "    \"CAML3.SA\", \"MDIA3.SA\", \"SMTO3.SA\",\n",
    "    \"^BVSP\"\n",
    "    ]\n",
    "\n",
    "try:\n",
    "    # --- CONEXÃO E CARREGAMENTO DE DADOS (Início da Lógica da Célula 13) ---\n",
    "    db_url = f'postgresql://{DB_USER}:{DB_PASSWORD}@{DB_HOST}:{DB_PORT}/{DB_NAME}'\n",
    "    engine = create_engine(db_url)\n",
    "    \n",
    "    # 1. Carregar e pivotar os dados\n",
    "    tickers_sql_list = \", \".join([f\"'{t}'\" for t in tickers_list])\n",
    "    query = f\"\"\"\n",
    "        SELECT data, ticker, \"Fechamento\" \n",
    "        FROM {TABLE_NAME} \n",
    "        WHERE ticker IN ({tickers_sql_list}) \n",
    "        ORDER BY data;\n",
    "        \"\"\"\n",
    "    df = pd.read_sql(query, engine)\n",
    "\n",
    "    # Limpeza dos nomes dos tickers\n",
    "    df['ticker'] = df['ticker'].apply(lambda x: re.sub(r'(\\\\.SA)$', '',x).replace('^', ''))\n",
    "    df_pivot = df.pivot_table(index='data', columns='ticker', values='Fechamento')\n",
    "    \n",
    "    OUTRAS_ACOES = [t for t in df_pivot.columns if t != IBOV_TICKER]\n",
    "    N_OBSERVACOES_TOTAL = len(df_pivot)\n",
    "\n",
    "    resultados_correlacao = []\n",
    "    \n",
    "    # 2. Loop para calcular as estatísticas por par\n",
    "    for ticker in OUTRAS_ACOES:\n",
    "        # Cria um DataFrame temporário para alinhar e remover NaNs em pares\n",
    "        df_temp = pd.DataFrame({'acao': df_pivot[ticker], 'ibov': df_pivot[IBOV_TICKER]}).dropna()\n",
    "        \n",
    "        serie_acao_limpa = df_temp['acao']\n",
    "        serie_ibov_limpa = df_temp['ibov']\n",
    "        n_valido = len(serie_acao_limpa)\n",
    "        \n",
    "        # 3. Verificação de dados: N suficiente e não variância zero\n",
    "        # Se n < 5 (ou 4 para o IC), ou se a variação de um dos ativos for zero (std() == 0),\n",
    "        # o cálculo da correlação e do IC não é possível ou é inválido.\n",
    "        if n_valido < 5 or serie_acao_limpa.std() == 0 or serie_ibov_limpa.std() == 0:\n",
    "            resultados_correlacao.append({\n",
    "                'Ticker': ticker,\n",
    "                'Correlacao': np.nan,\n",
    "                'P_Valor': np.nan,\n",
    "                'IC_Inferior': np.nan,\n",
    "                'IC_Superior': np.nan,\n",
    "                'N': n_valido\n",
    "            })\n",
    "            continue\n",
    "        \n",
    "        # 4. Correlação de Pearson e p-valor\n",
    "        r, p_value = stats.pearsonr(serie_acao_limpa, serie_ibov_limpa)\n",
    "        \n",
    "        # 5. Intervalo de Confiança\n",
    "        ic_inferior, ic_superior = calcular_ic_correlacao(r, n_valido, nivel_confianca=0.95)\n",
    "        \n",
    "        resultados_correlacao.append({\n",
    "            'Ticker': ticker,\n",
    "            'Correlacao': r,\n",
    "            'P_Valor': p_value,\n",
    "            'IC_Inferior': ic_inferior,\n",
    "            'IC_Superior': ic_superior,\n",
    "            'N': n_valido\n",
    "        })\n",
    "    \n",
    "    # 6. Criar o DataFrame final e ordenar\n",
    "    df_resultados = pd.DataFrame(resultados_correlacao).sort_values(by='Correlacao', ascending=False).reset_index(drop=True)\n",
    "    \n",
    "    # 7. Adicionar coluna de significância\n",
    "    df_resultados['Significancia'] = df_resultados['P_Valor'].apply(\n",
    "        lambda p: 'Significativo (p < 0.05)' if p < 0.05 else 'Não Significativo (p ≥ 0.05)'\n",
    "    )\n",
    "    \n",
    "    # ----------------------------------------------------------------------------------\n",
    "    # EXIBIÇÃO DA TABELA E GRÁFICO (como no código original)\n",
    "    # ----------------------------------------------------------------------------------\n",
    "    \n",
    "    print(\"--- Tabela de Resultados Estatísticos ---\\n\")\n",
    "    print(df_resultados[['Ticker', 'Correlacao', 'IC_Inferior', 'IC_Superior', 'P_Valor', 'Significancia']])\n",
    "    \n",
    "    plot_height = len(df_resultados) * 25 + 150 \n",
    "        \n",
    "    fig = px.bar(\n",
    "        df_resultados,\n",
    "        x='Correlacao',\n",
    "        y='Ticker',\n",
    "        orientation='h',\n",
    "        color='Significancia',\n",
    "        color_discrete_map={\n",
    "            'Significativo (p < 0.05)': 'royalblue', \n",
    "            'Não Significativo (p ≥ 0.05)': 'lightcoral'\n",
    "        },\n",
    "        title=f'Correlação (Pearson) com o Ibovespa (N={N_OBSERVACOES_TOTAL} dias)',\n",
    "        labels={'Correlacao': 'Coeficiente de Correlação (r)', 'Ticker': 'Ações'},\n",
    "        hover_data={\n",
    "            'Correlacao': ':.3f', \n",
    "            'P_Valor': ':.4f',\n",
    "            'IC_Inferior': ':.3f',\n",
    "            'IC_Superior': ':.3f',\n",
    "            'N': True\n",
    "        },\n",
    "        height=plot_height\n",
    "    )\n",
    "    print(\"\\nPrimeiras linhas da coluna BVSP:\")\n",
    "    print(df_pivot['BVSP'].head())\n",
    "    \n",
    "    # Verificação 2: Quantos valores válidos (não-NaN) tem o BVSP?\n",
    "    print(\"\\nContagem de valores válidos (non-NaN) no BVSP:\")\n",
    "    print(df_pivot['BVSP'].count())\n",
    "    \n",
    "    # Verificação 3: Onde estão os NaNs? (Mostra o total de NaNs por ticker)\n",
    "    print(\"\\nTotal de NaNs por Ticker no df_pivot:\")\n",
    "    print(df_pivot.isnull().sum().sort_values(ascending=False))\n",
    "    \n",
    "    fig.update_layout(uniformtext_minsize=8)\n",
    "    fig.show()\n",
    "    \n",
    "\n",
    "\n",
    "except Exception as e:\n",
    "    print(f\"Ocorreu um erro: {e}\")"
   ]
  },
  {
   "cell_type": "markdown",
   "id": "0f2d5d44",
   "metadata": {},
   "source": [
    "### 3. Entendendo os Resultados Estatísticos (Para Leigos)\n",
    "\n",
    "Esta seção tem como objetivo traduzir a tabela e o gráfico de correlação para termos simples, explicando **o que significa** o número da correlação e **qual é a confiança** que podemos ter nesse resultado.\n",
    "\n",
    "---\n",
    "\n",
    "#### 📈 O Que é a Correlação? (O Coeficiente 'r')\n",
    "\n",
    "O **Coeficiente de Correlação (r)** mede o grau de associação linear entre duas variáveis. Em termos de investimentos, ele mostra o quanto o preço de uma ação específica se move na **mesma direção** que o índice de mercado (o Ibovespa).\n",
    "\n",
    "| Valor de 'r' | Significado | Implicação para a Ação |\n",
    "| :---: | :---: | :--- |\n",
    "| **Perto de +1** (Forte) | A ação acompanha o Ibovespa de perto. | Quando o mercado sobe, a ação sobe (e vice-versa). |\n",
    "| **Perto de 0** (Fraca/Nula) | O movimento da ação é independente do Ibovespa. | A ação tem potencial para se comportar de forma diferente do mercado. |\n",
    "| **Perto de -1** (Negativa) | A ação se move na direção oposta ao Ibovespa. | Quando o mercado sobe, a ação tende a cair (e vice-versa). |\n",
    "\n",
    "#### 🛡️ Por Que Essa Análise é Importante?\n",
    "\n",
    "O objetivo principal desta análise é a **Diversificação**.\n",
    "\n",
    "Em um portfólio de investimentos, você não quer que todos os seus ativos caiam ao mesmo tempo. Analisar a correlação nos ajuda a:\n",
    "\n",
    "* **Identificar Risco:** Ativos com correlação alta (próxima de +1) ao Ibovespa aumentam seu risco quando o mercado geral cai.\n",
    "* **Buscar Diversificação:** Ativos com correlação baixa ou negativa são ideais, pois tendem a preservar valor ou até subir quando o Ibovespa cai, protegendo seu investimento.\n",
    "\n",
    "---\n",
    "\n",
    "#### 🧪 O Que Significam os Termos Estatísticos\n",
    "\n",
    "Os termos na tabela (\"P-Valor\" e \"IC\") nos dão confiança de que o valor de correlação que calculamos na nossa amostra de dados não é apenas um \"acaso\".\n",
    "\n",
    "**1. P-Valor (Teste de Hipóteses)**\n",
    "\n",
    "* **O que ele testa?** Ele testa a hipótese de que a correlação real entre a ação e o Ibovespa é zero.\n",
    "* **O que significa um P-Valor baixo (`< 0.05`)?** Significa que há uma chance muito pequena (menos de 5%) de que observamos essa correlação se ela fosse, na verdade, zero. Por isso, consideramos a correlação **Estatisticamente Significativa**. Ou seja, a relação é real e não aleatória.\n",
    "* **O que significa um P-Valor alto (`≥ 0.05`)?** Não podemos ter certeza de que a correlação é diferente de zero; o resultado que vimos pode ter sido apenas sorte.\n",
    "\n",
    "**2. Intervalo de Confiança (IC 95%)**\n",
    "\n",
    "* **O que ele mostra?** O IC é uma faixa de valores (Inferior e Superior) onde esperamos que a **correlação real** (populacional) se encontre, com 95% de certeza.\n",
    "* **Exemplo:** Se a correlação calculada for **0.70**, e o IC for **[0.65 a 0.75]**, temos 95% de confiança de que a correlação verdadeira está dentro dessa faixa.\n",
    "* **Importante:** Se o número **zero (0)** estiver dentro desse intervalo (ex: `[-0.10 a 0.20]`), a correlação não é considerada significativa, mesmo que o `r` que calculamos seja, por exemplo, 0.15.\n",
    "\n",
    "### Conclusão do Gráfico\n",
    "\n",
    "* **Barras Azuis (Significativo):** Indica que a correlação é estatisticamente robusta (P-Valor < 0.05).\n",
    "* **Barras Vermelhas (Não Significativo):** Indica que, embora possa haver algum valor de correlação, não há dados suficientes para provar que a"
   ]
  },
  {
   "cell_type": "code",
   "execution_count": 3,
   "id": "a2784e2a-3538-4eb3-985f-e09ff8249617",
   "metadata": {},
   "outputs": [
    {
     "name": "stdout",
     "output_type": "stream",
     "text": [
      "--- Resultados da Regressão Linear (Beta e Alpha) ---\n",
      "      Ticker  Beta (β)  Alpha (α)  R-Quadrado   P-Valor Beta  \\\n",
      "0   ELET3.SA  1.274406   0.000356    0.363991  1.244793e-244   \n",
      "1   ECOR3.SA  1.250783  -0.000728    0.431865  4.232068e-305   \n",
      "2   CMIG4.SA  1.102910   0.000160    0.412507  3.787784e-287   \n",
      "3   SBSP3.SA  0.922409   0.000399    0.365626  5.195377e-246   \n",
      "4   BRFS3.SA  0.859429  -0.000606    0.216211  1.217371e-132   \n",
      "5   MRFG3.SA  0.821522   0.000374    0.188186  8.461855e-114   \n",
      "6   SMTO3.SA  0.736736   0.000139    0.218800  2.048320e-134   \n",
      "7   ENEV3.SA  0.638788  -0.000002    0.096655   1.901381e-56   \n",
      "8   CPFE3.SA  0.629359   0.000183    0.297819  1.380514e-191   \n",
      "9   ABEV3.SA  0.624681  -0.000173    0.325442  4.263048e-213   \n",
      "10  BEEF3.SA  0.596045  -0.000331    0.122528   4.649253e-72   \n",
      "11  EGIE3.SA  0.572874   0.000142    0.359904  3.367817e-241   \n",
      "\n",
      "   Beta Significativo  \n",
      "0                 Sim  \n",
      "1                 Sim  \n",
      "2                 Sim  \n",
      "3                 Sim  \n",
      "4                 Sim  \n",
      "5                 Sim  \n",
      "6                 Sim  \n",
      "7                 Sim  \n",
      "8                 Sim  \n",
      "9                 Sim  \n",
      "10                Sim  \n",
      "11                Sim  \n"
     ]
    },
    {
     "data": {
      "application/vnd.plotly.v1+json": {
       "config": {
        "plotlyServerURL": "https://plot.ly"
       },
       "data": [
        {
         "customdata": [
          [
           0.0003561930274774539,
           0.36399117950724713,
           "Sim"
          ],
          [
           -0.0007280939974242931,
           0.43186520836874975,
           "Sim"
          ],
          [
           0.00016012994983629654,
           0.412506860645962,
           "Sim"
          ],
          [
           0.0003992080187979443,
           0.36562636277285476,
           "Sim"
          ],
          [
           -0.0006062091195349371,
           0.21621095830200288,
           "Sim"
          ],
          [
           0.00037366493702118553,
           0.18818644501684945,
           "Sim"
          ],
          [
           0.00013903577994787682,
           0.21879954437316818,
           "Sim"
          ],
          [
           -1.8110289855217466e-06,
           0.09665522395492576,
           "Sim"
          ],
          [
           0.0001831737796150333,
           0.29781923139999755,
           "Sim"
          ],
          [
           -0.00017269712214168604,
           0.32544246824303746,
           "Sim"
          ],
          [
           -0.00033094694471837806,
           0.12252761734035744,
           "Sim"
          ],
          [
           0.00014154226973171953,
           0.3599044418590279,
           "Sim"
          ]
         ],
         "hovertemplate": "Coeficiente Beta (β)=%{marker.color:.3f}<br>Ações=%{y}<br>Alpha (α)=%{customdata[0]:.4f}<br>R-Quadrado=%{customdata[1]:.3f}<br>Beta Significativo=%{customdata[2]}<extra></extra>",
         "legendgroup": "",
         "marker": {
          "color": {
           "bdata": "Nw0r+fdj9D8SQxyNNQP0PxEsAdaEpfE/Fx70Kl+E7T8lNqcecoDrP5gGY9ToSeo/W58ImFeT5z9WIiwy9HDkP/BUZM60I+Q/ORY9cmP94z8uQWjnzRLjP7ouaBL7VOI/",
           "dtype": "f8"
          },
          "coloraxis": "coloraxis",
          "pattern": {
           "shape": ""
          }
         },
         "name": "",
         "orientation": "h",
         "showlegend": false,
         "textposition": "auto",
         "type": "bar",
         "x": {
          "bdata": "Nw0r+fdj9D8SQxyNNQP0PxEsAdaEpfE/Fx70Kl+E7T8lNqcecoDrP5gGY9ToSeo/W58ImFeT5z9WIiwy9HDkP/BUZM60I+Q/ORY9cmP94z8uQWjnzRLjP7ouaBL7VOI/",
          "dtype": "f8"
         },
         "xaxis": "x",
         "y": [
          "ELET3.SA",
          "ECOR3.SA",
          "CMIG4.SA",
          "SBSP3.SA",
          "BRFS3.SA",
          "MRFG3.SA",
          "SMTO3.SA",
          "ENEV3.SA",
          "CPFE3.SA",
          "ABEV3.SA",
          "BEEF3.SA",
          "EGIE3.SA"
         ],
         "yaxis": "y"
        }
       ],
       "layout": {
        "annotations": [
         {
          "showarrow": false,
          "text": "Beta = 1 (Risco Neutro)",
          "x": 1,
          "xanchor": "left",
          "xref": "x",
          "y": 1,
          "yanchor": "top",
          "yref": "y domain"
         },
         {
          "showarrow": false,
          "text": "Beta = 0",
          "x": 0,
          "xanchor": "left",
          "xref": "x",
          "y": 1,
          "yanchor": "top",
          "yref": "y domain"
         }
        ],
        "barmode": "relative",
        "coloraxis": {
         "colorbar": {
          "title": {
           "text": "Coeficiente Beta (β)"
          }
         },
         "colorscale": [
          [
           0,
           "rgb(209, 238, 234)"
          ],
          [
           0.16666666666666666,
           "rgb(168, 219, 217)"
          ],
          [
           0.3333333333333333,
           "rgb(133, 196, 201)"
          ],
          [
           0.5,
           "rgb(104, 171, 184)"
          ],
          [
           0.6666666666666666,
           "rgb(79, 144, 166)"
          ],
          [
           0.8333333333333334,
           "rgb(59, 115, 143)"
          ],
          [
           1,
           "rgb(42, 86, 116)"
          ]
         ]
        },
        "height": 510,
        "legend": {
         "tracegroupgap": 0
        },
        "shapes": [
         {
          "line": {
           "color": "red",
           "dash": "dash",
           "width": 2
          },
          "type": "line",
          "x0": 1,
          "x1": 1,
          "xref": "x",
          "y0": 0,
          "y1": 1,
          "yref": "y domain"
         },
         {
          "line": {
           "color": "gray",
           "width": 1
          },
          "type": "line",
          "x0": 0,
          "x1": 0,
          "xref": "x",
          "y0": 0,
          "y1": 1,
          "yref": "y domain"
         }
        ],
        "template": {
         "data": {
          "bar": [
           {
            "error_x": {
             "color": "#2a3f5f"
            },
            "error_y": {
             "color": "#2a3f5f"
            },
            "marker": {
             "line": {
              "color": "#E5ECF6",
              "width": 0.5
             },
             "pattern": {
              "fillmode": "overlay",
              "size": 10,
              "solidity": 0.2
             }
            },
            "type": "bar"
           }
          ],
          "barpolar": [
           {
            "marker": {
             "line": {
              "color": "#E5ECF6",
              "width": 0.5
             },
             "pattern": {
              "fillmode": "overlay",
              "size": 10,
              "solidity": 0.2
             }
            },
            "type": "barpolar"
           }
          ],
          "carpet": [
           {
            "aaxis": {
             "endlinecolor": "#2a3f5f",
             "gridcolor": "white",
             "linecolor": "white",
             "minorgridcolor": "white",
             "startlinecolor": "#2a3f5f"
            },
            "baxis": {
             "endlinecolor": "#2a3f5f",
             "gridcolor": "white",
             "linecolor": "white",
             "minorgridcolor": "white",
             "startlinecolor": "#2a3f5f"
            },
            "type": "carpet"
           }
          ],
          "choropleth": [
           {
            "colorbar": {
             "outlinewidth": 0,
             "ticks": ""
            },
            "type": "choropleth"
           }
          ],
          "contour": [
           {
            "colorbar": {
             "outlinewidth": 0,
             "ticks": ""
            },
            "colorscale": [
             [
              0,
              "#0d0887"
             ],
             [
              0.1111111111111111,
              "#46039f"
             ],
             [
              0.2222222222222222,
              "#7201a8"
             ],
             [
              0.3333333333333333,
              "#9c179e"
             ],
             [
              0.4444444444444444,
              "#bd3786"
             ],
             [
              0.5555555555555556,
              "#d8576b"
             ],
             [
              0.6666666666666666,
              "#ed7953"
             ],
             [
              0.7777777777777778,
              "#fb9f3a"
             ],
             [
              0.8888888888888888,
              "#fdca26"
             ],
             [
              1,
              "#f0f921"
             ]
            ],
            "type": "contour"
           }
          ],
          "contourcarpet": [
           {
            "colorbar": {
             "outlinewidth": 0,
             "ticks": ""
            },
            "type": "contourcarpet"
           }
          ],
          "heatmap": [
           {
            "colorbar": {
             "outlinewidth": 0,
             "ticks": ""
            },
            "colorscale": [
             [
              0,
              "#0d0887"
             ],
             [
              0.1111111111111111,
              "#46039f"
             ],
             [
              0.2222222222222222,
              "#7201a8"
             ],
             [
              0.3333333333333333,
              "#9c179e"
             ],
             [
              0.4444444444444444,
              "#bd3786"
             ],
             [
              0.5555555555555556,
              "#d8576b"
             ],
             [
              0.6666666666666666,
              "#ed7953"
             ],
             [
              0.7777777777777778,
              "#fb9f3a"
             ],
             [
              0.8888888888888888,
              "#fdca26"
             ],
             [
              1,
              "#f0f921"
             ]
            ],
            "type": "heatmap"
           }
          ],
          "histogram": [
           {
            "marker": {
             "pattern": {
              "fillmode": "overlay",
              "size": 10,
              "solidity": 0.2
             }
            },
            "type": "histogram"
           }
          ],
          "histogram2d": [
           {
            "colorbar": {
             "outlinewidth": 0,
             "ticks": ""
            },
            "colorscale": [
             [
              0,
              "#0d0887"
             ],
             [
              0.1111111111111111,
              "#46039f"
             ],
             [
              0.2222222222222222,
              "#7201a8"
             ],
             [
              0.3333333333333333,
              "#9c179e"
             ],
             [
              0.4444444444444444,
              "#bd3786"
             ],
             [
              0.5555555555555556,
              "#d8576b"
             ],
             [
              0.6666666666666666,
              "#ed7953"
             ],
             [
              0.7777777777777778,
              "#fb9f3a"
             ],
             [
              0.8888888888888888,
              "#fdca26"
             ],
             [
              1,
              "#f0f921"
             ]
            ],
            "type": "histogram2d"
           }
          ],
          "histogram2dcontour": [
           {
            "colorbar": {
             "outlinewidth": 0,
             "ticks": ""
            },
            "colorscale": [
             [
              0,
              "#0d0887"
             ],
             [
              0.1111111111111111,
              "#46039f"
             ],
             [
              0.2222222222222222,
              "#7201a8"
             ],
             [
              0.3333333333333333,
              "#9c179e"
             ],
             [
              0.4444444444444444,
              "#bd3786"
             ],
             [
              0.5555555555555556,
              "#d8576b"
             ],
             [
              0.6666666666666666,
              "#ed7953"
             ],
             [
              0.7777777777777778,
              "#fb9f3a"
             ],
             [
              0.8888888888888888,
              "#fdca26"
             ],
             [
              1,
              "#f0f921"
             ]
            ],
            "type": "histogram2dcontour"
           }
          ],
          "mesh3d": [
           {
            "colorbar": {
             "outlinewidth": 0,
             "ticks": ""
            },
            "type": "mesh3d"
           }
          ],
          "parcoords": [
           {
            "line": {
             "colorbar": {
              "outlinewidth": 0,
              "ticks": ""
             }
            },
            "type": "parcoords"
           }
          ],
          "pie": [
           {
            "automargin": true,
            "type": "pie"
           }
          ],
          "scatter": [
           {
            "fillpattern": {
             "fillmode": "overlay",
             "size": 10,
             "solidity": 0.2
            },
            "type": "scatter"
           }
          ],
          "scatter3d": [
           {
            "line": {
             "colorbar": {
              "outlinewidth": 0,
              "ticks": ""
             }
            },
            "marker": {
             "colorbar": {
              "outlinewidth": 0,
              "ticks": ""
             }
            },
            "type": "scatter3d"
           }
          ],
          "scattercarpet": [
           {
            "marker": {
             "colorbar": {
              "outlinewidth": 0,
              "ticks": ""
             }
            },
            "type": "scattercarpet"
           }
          ],
          "scattergeo": [
           {
            "marker": {
             "colorbar": {
              "outlinewidth": 0,
              "ticks": ""
             }
            },
            "type": "scattergeo"
           }
          ],
          "scattergl": [
           {
            "marker": {
             "colorbar": {
              "outlinewidth": 0,
              "ticks": ""
             }
            },
            "type": "scattergl"
           }
          ],
          "scattermap": [
           {
            "marker": {
             "colorbar": {
              "outlinewidth": 0,
              "ticks": ""
             }
            },
            "type": "scattermap"
           }
          ],
          "scattermapbox": [
           {
            "marker": {
             "colorbar": {
              "outlinewidth": 0,
              "ticks": ""
             }
            },
            "type": "scattermapbox"
           }
          ],
          "scatterpolar": [
           {
            "marker": {
             "colorbar": {
              "outlinewidth": 0,
              "ticks": ""
             }
            },
            "type": "scatterpolar"
           }
          ],
          "scatterpolargl": [
           {
            "marker": {
             "colorbar": {
              "outlinewidth": 0,
              "ticks": ""
             }
            },
            "type": "scatterpolargl"
           }
          ],
          "scatterternary": [
           {
            "marker": {
             "colorbar": {
              "outlinewidth": 0,
              "ticks": ""
             }
            },
            "type": "scatterternary"
           }
          ],
          "surface": [
           {
            "colorbar": {
             "outlinewidth": 0,
             "ticks": ""
            },
            "colorscale": [
             [
              0,
              "#0d0887"
             ],
             [
              0.1111111111111111,
              "#46039f"
             ],
             [
              0.2222222222222222,
              "#7201a8"
             ],
             [
              0.3333333333333333,
              "#9c179e"
             ],
             [
              0.4444444444444444,
              "#bd3786"
             ],
             [
              0.5555555555555556,
              "#d8576b"
             ],
             [
              0.6666666666666666,
              "#ed7953"
             ],
             [
              0.7777777777777778,
              "#fb9f3a"
             ],
             [
              0.8888888888888888,
              "#fdca26"
             ],
             [
              1,
              "#f0f921"
             ]
            ],
            "type": "surface"
           }
          ],
          "table": [
           {
            "cells": {
             "fill": {
              "color": "#EBF0F8"
             },
             "line": {
              "color": "white"
             }
            },
            "header": {
             "fill": {
              "color": "#C8D4E3"
             },
             "line": {
              "color": "white"
             }
            },
            "type": "table"
           }
          ]
         },
         "layout": {
          "annotationdefaults": {
           "arrowcolor": "#2a3f5f",
           "arrowhead": 0,
           "arrowwidth": 1
          },
          "autotypenumbers": "strict",
          "coloraxis": {
           "colorbar": {
            "outlinewidth": 0,
            "ticks": ""
           }
          },
          "colorscale": {
           "diverging": [
            [
             0,
             "#8e0152"
            ],
            [
             0.1,
             "#c51b7d"
            ],
            [
             0.2,
             "#de77ae"
            ],
            [
             0.3,
             "#f1b6da"
            ],
            [
             0.4,
             "#fde0ef"
            ],
            [
             0.5,
             "#f7f7f7"
            ],
            [
             0.6,
             "#e6f5d0"
            ],
            [
             0.7,
             "#b8e186"
            ],
            [
             0.8,
             "#7fbc41"
            ],
            [
             0.9,
             "#4d9221"
            ],
            [
             1,
             "#276419"
            ]
           ],
           "sequential": [
            [
             0,
             "#0d0887"
            ],
            [
             0.1111111111111111,
             "#46039f"
            ],
            [
             0.2222222222222222,
             "#7201a8"
            ],
            [
             0.3333333333333333,
             "#9c179e"
            ],
            [
             0.4444444444444444,
             "#bd3786"
            ],
            [
             0.5555555555555556,
             "#d8576b"
            ],
            [
             0.6666666666666666,
             "#ed7953"
            ],
            [
             0.7777777777777778,
             "#fb9f3a"
            ],
            [
             0.8888888888888888,
             "#fdca26"
            ],
            [
             1,
             "#f0f921"
            ]
           ],
           "sequentialminus": [
            [
             0,
             "#0d0887"
            ],
            [
             0.1111111111111111,
             "#46039f"
            ],
            [
             0.2222222222222222,
             "#7201a8"
            ],
            [
             0.3333333333333333,
             "#9c179e"
            ],
            [
             0.4444444444444444,
             "#bd3786"
            ],
            [
             0.5555555555555556,
             "#d8576b"
            ],
            [
             0.6666666666666666,
             "#ed7953"
            ],
            [
             0.7777777777777778,
             "#fb9f3a"
            ],
            [
             0.8888888888888888,
             "#fdca26"
            ],
            [
             1,
             "#f0f921"
            ]
           ]
          },
          "colorway": [
           "#636efa",
           "#EF553B",
           "#00cc96",
           "#ab63fa",
           "#FFA15A",
           "#19d3f3",
           "#FF6692",
           "#B6E880",
           "#FF97FF",
           "#FECB52"
          ],
          "font": {
           "color": "#2a3f5f"
          },
          "geo": {
           "bgcolor": "white",
           "lakecolor": "white",
           "landcolor": "#E5ECF6",
           "showlakes": true,
           "showland": true,
           "subunitcolor": "white"
          },
          "hoverlabel": {
           "align": "left"
          },
          "hovermode": "closest",
          "mapbox": {
           "style": "light"
          },
          "paper_bgcolor": "white",
          "plot_bgcolor": "#E5ECF6",
          "polar": {
           "angularaxis": {
            "gridcolor": "white",
            "linecolor": "white",
            "ticks": ""
           },
           "bgcolor": "#E5ECF6",
           "radialaxis": {
            "gridcolor": "white",
            "linecolor": "white",
            "ticks": ""
           }
          },
          "scene": {
           "xaxis": {
            "backgroundcolor": "#E5ECF6",
            "gridcolor": "white",
            "gridwidth": 2,
            "linecolor": "white",
            "showbackground": true,
            "ticks": "",
            "zerolinecolor": "white"
           },
           "yaxis": {
            "backgroundcolor": "#E5ECF6",
            "gridcolor": "white",
            "gridwidth": 2,
            "linecolor": "white",
            "showbackground": true,
            "ticks": "",
            "zerolinecolor": "white"
           },
           "zaxis": {
            "backgroundcolor": "#E5ECF6",
            "gridcolor": "white",
            "gridwidth": 2,
            "linecolor": "white",
            "showbackground": true,
            "ticks": "",
            "zerolinecolor": "white"
           }
          },
          "shapedefaults": {
           "line": {
            "color": "#2a3f5f"
           }
          },
          "ternary": {
           "aaxis": {
            "gridcolor": "white",
            "linecolor": "white",
            "ticks": ""
           },
           "baxis": {
            "gridcolor": "white",
            "linecolor": "white",
            "ticks": ""
           },
           "bgcolor": "#E5ECF6",
           "caxis": {
            "gridcolor": "white",
            "linecolor": "white",
            "ticks": ""
           }
          },
          "title": {
           "x": 0.05
          },
          "xaxis": {
           "automargin": true,
           "gridcolor": "white",
           "linecolor": "white",
           "ticks": "",
           "title": {
            "standoff": 15
           },
           "zerolinecolor": "white",
           "zerolinewidth": 2
          },
          "yaxis": {
           "automargin": true,
           "gridcolor": "white",
           "linecolor": "white",
           "ticks": "",
           "title": {
            "standoff": 15
           },
           "zerolinecolor": "white",
           "zerolinewidth": 2
          }
         }
        },
        "title": {
         "text": "Beta (Sensibilidade ao Ibovespa)"
        },
        "uniformtext": {
         "minsize": 8
        },
        "xaxis": {
         "anchor": "y",
         "domain": [
          0,
          1
         ],
         "title": {
          "text": "Coeficiente Beta (β)"
         }
        },
        "yaxis": {
         "anchor": "x",
         "domain": [
          0,
          1
         ],
         "title": {
          "text": "Ações"
         }
        }
       }
      },
      "image/png": "[encoded data removed]"
     },
     "metadata": {},
     "output_type": "display_data"
    }
   ],
   "source": [
    "import pandas as pd\n",
    "import numpy as np\n",
    "import statsmodels.api as sm\n",
    "import os\n",
    "import re\n",
    "\n",
    "# --- CONFIGURAÇÕES E DADOS CARREGADOS DA CÉLULA MESTRA ---\n",
    "# NOTA: O DataFrame 'df_pivot' deve estar disponível na memória\n",
    "# após a execução da Célula 1.\n",
    "\n",
    "IBOV_TICKER = 'BVSP' \n",
    "\n",
    "try:\n",
    "    # 1. TRATAMENTO DE DADOS: CALCULAR RETORNOS LOGARÍTMICOS\n",
    "    # O cálculo do Beta deve ser feito com retornos, e não preços.\n",
    "    # Usamos o logaritmo natural para retornos, que é mais preciso para séries financeiras.\n",
    "    df_returns = np.log(df_pivot / df_pivot.shift(1)).dropna()\n",
    "    \n",
    "    # Prepara a variável independente (X) e dependente (Y)\n",
    "    X_market = df_returns[IBOV_TICKER]\n",
    "    \n",
    "    # 2. SEPARAR AS AÇÕES PARA REGRESSÃO\n",
    "    acoes_para_analise = [col for col in df_returns.columns if col != IBOV_TICKER]\n",
    "    \n",
    "    resultados_regressao = []\n",
    "\n",
    "    # 3. REALIZAR REGRESSÃO LINEAR PARA CADA AÇÃO\n",
    "    for ticker in acoes_para_analise:\n",
    "        Y_stock = df_returns[ticker]\n",
    "        \n",
    "        # Adiciona a constante (Intercepto Alpha) ao modelo de regressão\n",
    "        X = sm.add_constant(X_market) \n",
    "        \n",
    "        # OLS (Ordinary Least Squares) é o método da Regressão Linear\n",
    "        modelo = sm.OLS(Y_stock, X).fit()\n",
    "        \n",
    "        # Extrair os resultados\n",
    "        alpha = modelo.params['const']  # Alpha (Intercepto)\n",
    "        beta = modelo.params[IBOV_TICKER]  # Beta (Coeficiente da BVSP)\n",
    "        r_squared = modelo.rsquared  # R-quadrado (poder explicativo do modelo)\n",
    "        p_beta = modelo.pvalues[IBOV_TICKER] # P-valor do Beta (significância)\n",
    "\n",
    "        resultados_regressao.append({\n",
    "            'Ticker': ticker,\n",
    "            'Beta (β)': beta,\n",
    "            'Alpha (α)': alpha,\n",
    "            'R-Quadrado': r_squared,\n",
    "            'P-Valor Beta': p_beta\n",
    "        })\n",
    "\n",
    "    # 4. CRIAR O DATAFRAME FINAL E ORDENAR POR BETA\n",
    "    df_beta = pd.DataFrame(resultados_regressao).sort_values(by='Beta (β)', ascending=False).reset_index(drop=True)\n",
    "    \n",
    "    # Adicionar coluna de significância para o Beta (se p < 0.05)\n",
    "    df_beta['Beta Significativo'] = df_beta['P-Valor Beta'].apply(\n",
    "        lambda p: 'Sim' if p < 0.05 else 'Não'\n",
    "    )\n",
    "    \n",
    "    # Exibir a Tabela de Resultados\n",
    "    print(\"--- Resultados da Regressão Linear (Beta e Alpha) ---\")\n",
    "    print(df_beta)\n",
    "    \n",
    "    # 5. GERAR GRÁFICO DINÂMICO DOS BETAS\n",
    "    plot_height = len(df_beta) * 30 + 150 \n",
    "    \n",
    "    fig = px.bar(\n",
    "        df_beta,\n",
    "        x='Beta (β)',\n",
    "        y='Ticker',\n",
    "        orientation='h',\n",
    "        title='Beta (Sensibilidade ao Ibovespa)',\n",
    "        labels={'Beta (β)': 'Coeficiente Beta (β)', 'Ticker': 'Ações'},\n",
    "        color='Beta (β)',\n",
    "        color_continuous_scale=px.colors.sequential.Teal,\n",
    "        hover_data={'Beta (β)': ':.3f', 'Alpha (α)': ':.4f', 'R-Quadrado': ':.3f', 'Beta Significativo': True},\n",
    "        height=plot_height\n",
    "    )\n",
    "    \n",
    "    # Adicionar linha de referência em Beta = 1 (Risco Neutro)\n",
    "    fig.add_vline(x=1, line_width=2, line_dash=\"dash\", line_color=\"red\", annotation_text=\"Beta = 1 (Risco Neutro)\")\n",
    "    fig.add_vline(x=0, line_width=1, line_color=\"gray\", annotation_text=\"Beta = 0\")\n",
    "    \n",
    "    fig.update_layout(uniformtext_minsize=8)\n",
    "    fig.show()\n",
    "\n",
    "except Exception as e:\n",
    "    print(f\"Ocorreu um erro. Certifique-se de que a Célula 1 foi executada e as bibliotecas statsmodels e plotly estão instaladas: {e}\")"
   ]
  }
 ],
 "metadata": {
  "kernelspec": {
   "display_name": "Python 3 (ipykernel)",
   "language": "python",
   "name": "python3"
  },
  "language_info": {
   "codemirror_mode": {
    "name": "ipython",
    "version": 3
   },
   "file_extension": ".py",
   "mimetype": "text/x-python",
   "name": "python",
   "nbconvert_exporter": "python",
   "pygments_lexer": "ipython3",
   "version": "3.12.3"
  }
 },
 "nbformat": 4,
 "nbformat_minor": 5
}
