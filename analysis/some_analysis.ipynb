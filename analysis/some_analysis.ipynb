{
 "cells": [
  {
   "cell_type": "markdown",
   "id": "ce161b88",
   "metadata": {},
   "source": [
    "## Connect with the DB\n",
    "\n"
   ]
  },
  {
   "cell_type": "code",
   "execution_count": null,
   "id": "62864f49",
   "metadata": {
    "vscode": {
     "languageId": "plaintext"
    }
   },
   "outputs": [
    {
     "name": "stdout",
     "output_type": "stream",
     "text": [
      "Conexão bem-sucedida! Dados carregados:\n",
      "         data ticker  Abertura   Maxima   Minima  Fechamento   Volume\n",
      "0  2015-01-05  ^BVSP   48512.0  48512.0  47264.0     47517.0  3866100\n",
      "1  2015-01-06  ^BVSP   47517.0  48061.0  47338.0     48001.0  4559300\n",
      "2  2015-01-07  ^BVSP   48006.0  49882.0  48006.0     49463.0  4408800\n",
      "3  2015-01-08  ^BVSP   49463.0  50261.0  49017.0     49943.0  3621900\n",
      "4  2015-01-09  ^BVSP   49955.0  49955.0  48501.0     48840.0  2999200\n",
      "\n",
      "Informações do DataFrame:\n",
      "<class 'pandas.core.frame.DataFrame'>\n",
      "RangeIndex: 2477 entries, 0 to 2476\n",
      "Data columns (total 7 columns):\n",
      " #   Column      Non-Null Count  Dtype  \n",
      "---  ------      --------------  -----  \n",
      " 0   data        2477 non-null   object \n",
      " 1   ticker      2477 non-null   object \n",
      " 2   Abertura    2477 non-null   float64\n",
      " 3   Maxima      2477 non-null   float64\n",
      " 4   Minima      2477 non-null   float64\n",
      " 5   Fechamento  2477 non-null   float64\n",
      " 6   Volume      2477 non-null   int64  \n",
      "dtypes: float64(4), int64(1), object(2)\n",
      "memory usage: 135.6+ KB\n",
      "None\n"
     ]
    }
   ],
   "source": [
    "import pandas as pd\n",
    "from sqlalchemy import create_engine\n",
    "import matplotlib.pyplot as plt\n",
    "import os\n",
    "import re\n",
    "\n",
    "# Database credentials (from user's previous code)\n",
    "DB_USER = \"user_invest\"\n",
    "DB_PASSWORD = \"senha_forte\"\n",
    "DB_HOST = 'localhost'\n",
    "DB_PORT = '5432'\n",
    "DB_NAME = 'postgres'\n",
    "TABLE_NAME = 'companys'\n",
    "\n",
    "try:\n",
    "    # Create the database connection URL\n",
    "    db_url = f'postgresql://{DB_USER}:{DB_PASSWORD}@{DB_HOST}:{DB_PORT}/{DB_NAME}'\n",
    "    engine = create_engine(db_url)\n",
    "\n",
    "    # List of tickers to analyze, including Ibovespa\n",
    "    tickers_list = [\"PETR4.SA\", \"ELET3.SA\", \"EGIE3.SA\", \"CPFE3.SA\", \"CMIG4.SA\", \"ENEV3.SA\",\n",
    "                    \"JBSS3.SA\", \"BRFS3.SA\", \"MRFG3.SA\", \"BEEF3.SA\", \"SMTO3.SA\", \"ABEV3.SA\",\n",
    "                    \"CCRO3.SA\", \"ECOR3.SA\", \"SBSP3.SA\", \"CSMG3.SA\", \"WEGE3.SA\", \"^BVSP\"]\n",
    "    \n",
    "    # Query to fetch the data\n",
    "    query = f\"\"\"\n",
    "    SELECT data, ticker, \"Fechamento\" \n",
    "    FROM {TABLE_NAME} \n",
    "    WHERE ticker IN ({', '.join([f\"'{t}'\" for t in tickers_list])}) \n",
    "    ORDER BY data;\n",
    "    \"\"\"\n",
    "\n",
    "    # Read data from the database into a pandas DataFrame\n",
    "    df = pd.read_sql(query, engine)\n",
    "\n",
    "df['ticker'] = df['ticker'].apply(lambda x: re.sub(r'(\\.SA)$', '', x).replace('^', ''))\n",
    "    \n",
    "    # Reorganiza o DataFrame para que cada ticker seja uma coluna\n",
    "    df_pivot = df.pivot_table(index='data', columns='ticker', values='Fechamento')\n",
    "\n",
    "    # Normaliza os dados para que todos comecem em 100%\n",
    "    df_normalized = df_pivot.div(df_pivot.iloc[0]) * 100\n",
    "\n",
    "    # Cria o gráfico de linhas\n",
    "    plt.style.use('seaborn-v0_8-whitegrid')\n",
    "    plt.figure(figsize=(15, 10))\n",
    "\n",
    "    # Plota cada linha no gráfico\n",
    "    for column in df_normalized.columns:\n",
    "        plt.plot(df_normalized.index, df_normalized[column], label=column)\n",
    "\n",
    "    plt.title('Performance Normalizada de Ações e Ibovespa ao Longo do Tempo', fontsize=18)\n",
    "    plt.xlabel('Data', fontsize=14)\n",
    "    plt.ylabel('Preço Normalizado (%)', fontsize=14)\n",
    "    plt.legend(title='Ticker', bbox_to_anchor=(1.05, 1), loc='upper left')\n",
    "    plt.grid(True)\n",
    "    plt.tight_layout(rect=[0, 0, 0.85, 1])\n",
    "\n",
    "    # Salva o gráfico em um arquivo\n",
    "    plot_filename = 'performance_normalizada.png'\n",
    "    plt.savefig(plot_filename)\n",
    "    print(f\"Gráfico de performance normalizada salvo como '{plot_filename}'\")\n",
    "    \n",
    "except Exception as e:\n",
    "    print(f\"Ocorreu um erro: {e}\")"
   ]
  },
  {
   "cell_type": "code",
   "execution_count": null,
   "id": "39a73d47-abd6-4514-b65b-605e0f40649b",
   "metadata": {},
   "outputs": [],
   "source": []
  }
 ],
 "metadata": {
  "kernelspec": {
   "display_name": "Python 3 (ipykernel)",
   "language": "python",
   "name": "python3"
  },
  "language_info": {
   "codemirror_mode": {
    "name": "ipython",
    "version": 3
   },
   "file_extension": ".py",
   "mimetype": "text/x-python",
   "name": "python",
   "nbconvert_exporter": "python",
   "pygments_lexer": "ipython3",
   "version": "3.12.3"
  }
 },
 "nbformat": 4,
 "nbformat_minor": 5
}
